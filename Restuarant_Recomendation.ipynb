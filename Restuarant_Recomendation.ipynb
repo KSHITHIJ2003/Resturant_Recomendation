{
  "cells": [
    {
      "cell_type": "code",
      "execution_count": null,
      "metadata": {
        "colab": {
          "background_save": true
        },
        "id": "u-wFyrLC989x"
      },
      "outputs": [],
      "source": [
        "import numpy as np\n",
        "import pandas as pd\n",
        "import seaborn as sb\n",
        "import matplotlib.pyplot as plt\n",
        "import seaborn as sns\n",
        "from sklearn.linear_model import LogisticRegression\n",
        "from sklearn.linear_model import LinearRegression\n",
        "from sklearn.model_selection import train_test_split\n",
        "from sklearn.metrics import classification_report\n",
        "from sklearn.metrics import confusion_matrix\n",
        "from sklearn.metrics import r2_score\n",
        "import warnings\n",
        "warnings.filterwarnings('always')\n",
        "warnings.filterwarnings('ignore')\n",
        "import re\n",
        "from nltk.corpus import stopwords\n",
        "from sklearn.metrics.pairwise import linear_kernel\n",
        "from sklearn.feature_extraction.text import CountVectorizer\n",
        "from sklearn.feature_extraction.text import TfidfVectorizer"
      ]
    },
    {
      "cell_type": "code",
      "execution_count": null,
      "metadata": {
        "id": "9kjcwBKmkkPV"
      },
      "outputs": [],
      "source": [
        "from google.colab import drive\n",
        "drive.mount('/content/drive')\n"
      ]
    },
    {
      "cell_type": "code",
      "execution_count": null,
      "metadata": {
        "id": "a7kmgC5y_mUR"
      },
      "outputs": [],
      "source": [
        "zomato_real = pd.read_csv('/content/drive/MyDrive/zomato.csv')"
      ]
    },
    {
      "cell_type": "code",
      "execution_count": null,
      "metadata": {
        "id": "WtYoW4uSBaiJ"
      },
      "outputs": [],
      "source": [
        "zomato_real.head()"
      ]
    },
    {
      "cell_type": "code",
      "execution_count": null,
      "metadata": {
        "id": "PipLswlMBhVQ"
      },
      "outputs": [],
      "source": [
        "zomato_real.info()"
      ]
    },
    {
      "cell_type": "code",
      "execution_count": null,
      "metadata": {
        "id": "EufLgvMBB-ka"
      },
      "outputs": [],
      "source": [
        "#Deleting Unnnecessary Columns\n",
        "zomato=zomato_real.drop(['url','dish_liked','phone'],axis=1)"
      ]
    },
    {
      "cell_type": "code",
      "execution_count": null,
      "metadata": {
        "colab": {
          "background_save": true
        },
        "id": "8rTK3rvtCFtv"
      },
      "outputs": [],
      "source": [
        "#Removing the Duplicates\n",
        "zomato.duplicated().sum()\n",
        "zomato.drop_duplicates(inplace=True)"
      ]
    },
    {
      "cell_type": "code",
      "execution_count": null,
      "metadata": {
        "colab": {
          "background_save": true
        },
        "id": "tYlgz2gDCMAf",
        "outputId": "e1911abe-48ba-438c-9907-9908a4b0b1df"
      },
      "outputs": [
        {
          "name": "stdout",
          "output_type": "stream",
          "text": [
            "<class 'pandas.core.frame.DataFrame'>\n",
            "Int64Index: 43499 entries, 0 to 51716\n",
            "Data columns (total 14 columns):\n",
            " #   Column                       Non-Null Count  Dtype \n",
            "---  ------                       --------------  ----- \n",
            " 0   address                      43499 non-null  object\n",
            " 1   name                         43499 non-null  object\n",
            " 2   online_order                 43499 non-null  object\n",
            " 3   book_table                   43499 non-null  object\n",
            " 4   rate                         43499 non-null  object\n",
            " 5   votes                        43499 non-null  int64 \n",
            " 6   location                     43499 non-null  object\n",
            " 7   rest_type                    43499 non-null  object\n",
            " 8   cuisines                     43499 non-null  object\n",
            " 9   approx_cost(for two people)  43499 non-null  object\n",
            " 10  reviews_list                 43499 non-null  object\n",
            " 11  menu_item                    43499 non-null  object\n",
            " 12  listed_in(type)              43499 non-null  object\n",
            " 13  listed_in(city)              43499 non-null  object\n",
            "dtypes: int64(1), object(13)\n",
            "memory usage: 5.0+ MB\n"
          ]
        }
      ],
      "source": [
        "#Remove the NaN values from the dataset\n",
        "zomato.isnull().sum()\n",
        "zomato.dropna(how='any',inplace=True)\n",
        "zomato.info()"
      ]
    },
    {
      "cell_type": "code",
      "execution_count": null,
      "metadata": {
        "colab": {
          "background_save": true
        },
        "id": "tHOnVVIsDCT8",
        "outputId": "fe5fde53-12fd-40e5-979b-52e482651d62"
      },
      "outputs": [
        {
          "data": {
            "text/plain": [
              "Index(['address', 'name', 'online_order', 'book_table', 'rate', 'votes',\n",
              "       'location', 'rest_type', 'cuisines', 'cost', 'reviews_list',\n",
              "       'menu_item', 'type', 'city'],\n",
              "      dtype='object')"
            ]
          },
          "execution_count": 9,
          "metadata": {},
          "output_type": "execute_result"
        }
      ],
      "source": [
        "zomato = zomato.rename(columns={'approx_cost(for two people)':'cost','listed_in(type)':'type',\n",
        "                                  'listed_in(city)':'city'})\n",
        "zomato.columns"
      ]
    },
    {
      "cell_type": "code",
      "execution_count": null,
      "metadata": {
        "colab": {
          "background_save": true
        },
        "id": "X-P_TyHeDJyA",
        "outputId": "22b4707d-726b-47be-b903-280469f9b4b1"
      },
      "outputs": [
        {
          "name": "stdout",
          "output_type": "stream",
          "text": [
            "<class 'pandas.core.frame.DataFrame'>\n",
            "Int64Index: 43499 entries, 0 to 51716\n",
            "Data columns (total 14 columns):\n",
            " #   Column        Non-Null Count  Dtype  \n",
            "---  ------        --------------  -----  \n",
            " 0   address       43499 non-null  object \n",
            " 1   name          43499 non-null  object \n",
            " 2   online_order  43499 non-null  object \n",
            " 3   book_table    43499 non-null  object \n",
            " 4   rate          43499 non-null  object \n",
            " 5   votes         43499 non-null  int64  \n",
            " 6   location      43499 non-null  object \n",
            " 7   rest_type     43499 non-null  object \n",
            " 8   cuisines      43499 non-null  object \n",
            " 9   cost          43499 non-null  float64\n",
            " 10  reviews_list  43499 non-null  object \n",
            " 11  menu_item     43499 non-null  object \n",
            " 12  type          43499 non-null  object \n",
            " 13  city          43499 non-null  object \n",
            "dtypes: float64(1), int64(1), object(12)\n",
            "memory usage: 5.0+ MB\n"
          ]
        }
      ],
      "source": [
        "#Some Transformations\n",
        "zomato['cost'] = zomato['cost'].astype(str) #Changing the cost to string\n",
        "zomato['cost'] = zomato['cost'].apply(lambda x: x.replace(',','.')) #Using lambda function to replace ',' from cost\n",
        "zomato['cost'] = zomato['cost'].astype(float) # Changing the cost to Float\n",
        "zomato.info()"
      ]
    },
    {
      "cell_type": "code",
      "execution_count": null,
      "metadata": {
        "colab": {
          "background_save": true
        },
        "id": "wgjoVEASDVE1",
        "outputId": "33e9a77f-7908-4b82-dd81-c1dd4b450986"
      },
      "outputs": [
        {
          "data": {
            "text/plain": [
              "array(['4.1/5', '3.8/5', '3.7/5', '3.6/5', '4.6/5', '4.0/5', '4.2/5',\n",
              "       '3.9/5', '3.1/5', '3.0/5', '3.2/5', '3.3/5', '2.8/5', '4.4/5',\n",
              "       '4.3/5', 'NEW', '2.9/5', '3.5/5', '2.6/5', '3.8 /5', '3.4/5',\n",
              "       '4.5/5', '2.5/5', '2.7/5', '4.7/5', '2.4/5', '2.2/5', '2.3/5',\n",
              "       '3.4 /5', '-', '3.6 /5', '4.8/5', '3.9 /5', '4.2 /5', '4.0 /5',\n",
              "       '4.1 /5', '3.7 /5', '3.1 /5', '2.9 /5', '3.3 /5', '2.8 /5',\n",
              "       '3.5 /5', '2.7 /5', '2.5 /5', '3.2 /5', '2.6 /5', '4.5 /5',\n",
              "       '4.3 /5', '4.4 /5', '4.9/5', '2.1/5', '2.0/5', '1.8/5', '4.6 /5',\n",
              "       '4.9 /5', '3.0 /5', '4.8 /5', '2.3 /5', '4.7 /5', '2.4 /5',\n",
              "       '2.1 /5', '2.2 /5', '2.0 /5', '1.8 /5'], dtype=object)"
            ]
          },
          "execution_count": 11,
          "metadata": {},
          "output_type": "execute_result"
        }
      ],
      "source": [
        "#Reading Rate of dataset\n",
        "zomato['rate'].unique()"
      ]
    },
    {
      "cell_type": "code",
      "execution_count": null,
      "metadata": {
        "colab": {
          "background_save": true
        },
        "id": "aMI7h9xlDZQu",
        "outputId": "51eb0f1c-7c73-4197-fbf7-2c2a7894a6b5"
      },
      "outputs": [
        {
          "data": {
            "text/plain": [
              "0    4.1\n",
              "1    4.1\n",
              "2    3.8\n",
              "3    3.7\n",
              "4    3.8\n",
              "Name: rate, dtype: float64"
            ]
          },
          "execution_count": 12,
          "metadata": {},
          "output_type": "execute_result"
        }
      ],
      "source": [
        "# Removing '/5' from Rates\n",
        "zomato = zomato.loc[zomato.rate != 'NEW']\n",
        "zomato = zomato.loc[zomato.rate != '-'].reset_index(drop=True)\n",
        "remove_slash = lambda x: x.replace('/5', '') if type(x) == str else x\n",
        "zomato.rate = zomato.rate.apply(remove_slash).str.strip().astype('float')\n",
        "zomato['rate'].head()\n"
      ]
    },
    {
      "cell_type": "code",
      "execution_count": null,
      "metadata": {
        "colab": {
          "background_save": true
        },
        "id": "fSNm6bpEEiFk",
        "outputId": "57fd5608-d47f-47fe-80f0-e24047459cc6"
      },
      "outputs": [
        {
          "data": {
            "text/plain": [
              "array([800.  , 300.  , 600.  , 700.  , 550.  , 500.  , 450.  , 650.  ,\n",
              "       400.  , 900.  , 200.  , 750.  , 150.  , 850.  , 100.  ,   1.2 ,\n",
              "       350.  , 250.  , 950.  ,   1.  ,   1.5 ,   1.3 , 199.  ,   1.1 ,\n",
              "         1.6 , 230.  , 130.  ,   1.7 ,   1.35,   2.2 ,   1.4 ,   2.  ,\n",
              "         1.8 ,   1.9 , 180.  , 330.  ,   2.5 ,   2.1 ,   3.  ,   2.8 ,\n",
              "         3.4 ,  50.  ,  40.  ,   1.25,   3.5 ,   4.  ,   2.4 ,   2.6 ,\n",
              "         1.45,  70.  ,   3.2 , 240.  ,   6.  ,   1.05,   2.3 ,   4.1 ,\n",
              "       120.  ,   5.  ,   3.7 ,   1.65,   2.7 ,   4.5 ,  80.  ])"
            ]
          },
          "execution_count": 13,
          "metadata": {},
          "output_type": "execute_result"
        }
      ],
      "source": [
        "# Adjust the column names\n",
        "zomato.name = zomato.name.apply(lambda x:x.title())\n",
        "zomato.online_order.replace(('Yes','No'),(True, False),inplace=True)\n",
        "zomato.book_table.replace(('Yes','No'),(True, False),inplace=True)\n",
        "zomato.cost.unique()"
      ]
    },
    {
      "cell_type": "code",
      "execution_count": null,
      "metadata": {
        "colab": {
          "background_save": true
        },
        "id": "Fm1lz3YAEjIe",
        "outputId": "7cdb5b3a-0731-4ab3-f4b3-03e5f36fce68"
      },
      "outputs": [
        {
          "data": {
            "application/vnd.google.colaboratory.intrinsic+json": {
              "summary": "{\n  \"name\": \"zomato\",\n  \"rows\": 41237,\n  \"fields\": [\n    {\n      \"column\": \"address\",\n      \"properties\": {\n        \"dtype\": \"category\",\n        \"num_unique_values\": 8792,\n        \"samples\": [\n          \"Sheraton Grand Bengaluru Whitefield Hotel & Convention Centre, Prestige Shantiniketan, ITPL Main Road, Whitefield\",\n          \"212, 28th Cross, 2nd Block, Near MES and Basaveshwara College Circle, Basaveshwara Nagar, Bangalore\",\n          \"#72, 3rd Cross DSI Road, Teachers Colony, Kumaraswamy Layout, Bangalore\"\n        ],\n        \"semantic_type\": \"\",\n        \"description\": \"\"\n      }\n    },\n    {\n      \"column\": \"name\",\n      \"properties\": {\n        \"dtype\": \"category\",\n        \"num_unique_values\": 6572,\n        \"samples\": [\n          \"Darjeeling Momos & Fast Food Center\",\n          \"Hq\",\n          \"Malabar Bay\"\n        ],\n        \"semantic_type\": \"\",\n        \"description\": \"\"\n      }\n    },\n    {\n      \"column\": \"online_order\",\n      \"properties\": {\n        \"dtype\": \"boolean\",\n        \"num_unique_values\": 2,\n        \"samples\": [\n          false,\n          true\n        ],\n        \"semantic_type\": \"\",\n        \"description\": \"\"\n      }\n    },\n    {\n      \"column\": \"book_table\",\n      \"properties\": {\n        \"dtype\": \"boolean\",\n        \"num_unique_values\": 2,\n        \"samples\": [\n          false,\n          true\n        ],\n        \"semantic_type\": \"\",\n        \"description\": \"\"\n      }\n    },\n    {\n      \"column\": \"rate\",\n      \"properties\": {\n        \"dtype\": \"number\",\n        \"std\": 0.44003445970047556,\n        \"min\": 1.8,\n        \"max\": 4.9,\n        \"num_unique_values\": 31,\n        \"samples\": [\n          4.9,\n          2.9\n        ],\n        \"semantic_type\": \"\",\n        \"description\": \"\"\n      }\n    },\n    {\n      \"column\": \"votes\",\n      \"properties\": {\n        \"dtype\": \"number\",\n        \"std\": 884,\n        \"min\": 0,\n        \"max\": 16832,\n        \"num_unique_values\": 2323,\n        \"samples\": [\n          9064,\n          1216\n        ],\n        \"semantic_type\": \"\",\n        \"description\": \"\"\n      }\n    },\n    {\n      \"column\": \"location\",\n      \"properties\": {\n        \"dtype\": \"category\",\n        \"num_unique_values\": 92,\n        \"samples\": [\n          \"Cunningham Road\",\n          \"Bellandur\"\n        ],\n        \"semantic_type\": \"\",\n        \"description\": \"\"\n      }\n    },\n    {\n      \"column\": \"rest_type\",\n      \"properties\": {\n        \"dtype\": \"category\",\n        \"num_unique_values\": 87,\n        \"samples\": [\n          \"Cafe, Lounge\",\n          \"Casual Dining\"\n        ],\n        \"semantic_type\": \"\",\n        \"description\": \"\"\n      }\n    },\n    {\n      \"column\": \"cuisines\",\n      \"properties\": {\n        \"dtype\": \"category\",\n        \"num_unique_values\": 2367,\n        \"samples\": [\n          \"Chinese, Beverages, Street Food\",\n          \"Cafe, Bakery, Fast Food, Desserts\"\n        ],\n        \"semantic_type\": \"\",\n        \"description\": \"\"\n      }\n    },\n    {\n      \"column\": \"cost\",\n      \"properties\": {\n        \"dtype\": \"number\",\n        \"std\": 242.52295395472686,\n        \"min\": 1.0,\n        \"max\": 950.0,\n        \"num_unique_values\": 63,\n        \"samples\": [\n          4.5,\n          5.0\n        ],\n        \"semantic_type\": \"\",\n        \"description\": \"\"\n      }\n    },\n    {\n      \"column\": \"reviews_list\",\n      \"properties\": {\n        \"dtype\": \"string\",\n        \"num_unique_values\": 21103,\n        \"samples\": [\n          \"[('Rated 4.0', 'RATED\\\\n  OPUS Club\\\\n\\\\nAfter hearing a lot about this place finally I visited here for Friday dinner. Ambiance was super cool. We decided to take a outside table so that we could enjoy the weather and the food all together. Food was good and loved the presentation of everything we ordered. I had some cocktails and I liked specifically \\\"Bitter moon\\\". The food delivery was fast as well.'), ('Rated 1.0', 'RATED\\\\n  We had reserved a table for 8 people. When we reached, management couldn\\u00c3\\u0083\\\\x83\\u00c3\\u0082\\\\x83\\u00c3\\u0083\\\\x82\\u00c3\\u0082\\\\x82\\u00c3\\u0083\\\\x83\\u00c3\\u0082\\\\x82\\u00c3\\u0083\\\\x82\\u00c3\\u0082\\\\x92t give us a place to sit. When we got ourselves an empty couch, the waitress came and told us they have booked another place for us and asked us to leave that place as it was booked for some other group(who happened to reach after us). We went to the table they took us to and that was also booked for some other group.\\\\nWe finally had to leave. Very disappointing. They clearly overbooked.'), ('Rated 3.0', 'RATED\\\\n  Have been there so many times,the sitting area outside is very nice but the area to dance inside is very small and it is most of the time so crowded that it is very much suffocating to groove properly.The food is okayish with a high range of pricing on it.'), ('Rated 5.0', 'RATED\\\\n  Bollywood night is absolutely lit!! Be careful while ordering a margarita though, they might being you a Margherita pizza!! Otherwise great service and a fun night!!'), ('Rated 4.0', 'RATED\\\\n  My love for bollywood night reminds me of this place every Friday.. we were more keen to use the disc and it was a spontaneous decision to go there, so we had very less food like some nachos and finger food which was tasty.\\\\n\\\\nBeat part was our kids were comfortable too!\\\\n\\\\nIf you like bollywood music go on a Friday. No inputs for other live bands and music that they play on other days!'), ('Rated 5.0', 'RATED\\\\n  Recently launched restaurant with great ambience, spacious, multi tier seating arrangement for soothing experience for every mood. The food is great in presentation, taste & its rich composition. The staff did everything to bring an experience with a class.\\\\n\\\\nfoodie.prorido.com'), ('Rated 4.0', \\\"RATED\\\\n  Awesome place with great ambiance and cool dj. Food and service over there both are pretty good. The only thing that was absurd over there was the denial of using my zomato gold until I get a table. It's not my mistake that I didn't get a table, I paid the full cover charge and now I'm being told that I cannot use my gold pass.\\\"), ('Rated 4.0', 'RATED\\\\n  We planned to visit this place on weekday (to avoid heavy crowd) to celebrate a farewell party arnd 7PM. As soon as you enter this place looks wow with nice ambiance and plenty of space around and amazing lighting.\\\\nWhen it comes to food we have ordered multiple things in veg & non veg and more or less we liked everything (special mention would be french fries).\\\\n\\\\nThis is a very nice place to enjoy, party & chill out with friends...definitely recommended. \\\\n\\\\nFood - 4/5\\\\nAmbiance - 5/5\\\\nMusic - 4.5/5\\\\nService - 3.5/5\\\\nI would have given 5 to this place considering the ambiance, food, location and music...but just because of service (due to initial behaviors of waiters & confusions regarding zomato offer) I am rating it as 4.'), ('Rated 3.0', 'RATED\\\\n  Food: 3/5\\\\nDrinks: 4/5\\\\nAmbience: 4.5/5\\\\nStaff: 4/5\\\\n\\\\n:food was not that great. Be it the pizza, nacho or paneer Tikka.\\\\n: the drinks were good but only if you stick to the expensive ones\\\\n: well the Bollywood music and the big plasma can just make it good but not perfect\\\\n: the staff were more like professional salesmen than waiters.'), ('Rated 5.0', \\\"RATED\\\\n  Went to the place in a friday evening. One of the best bollywood night I have enjoyed. Toto's service is top notch. Food is above average. ambiance ais awesome. must recommend. We ordered chicken Nachos and ghee roast mutton. Both were good\\\"), ('Rated 4.0', 'RATED\\\\n  This place was on my list for quite sometime. Finally made it on fine Saturday night. This place is an awesome place to hang out with friends and shake your legs with the dance tunes. The food options are less when compared with non-vegetarian.\\\\n\\\\nHowever, you can definitely try this place out for a pub/disco.'), ('Rated 4.0', 'RATED\\\\n  This place is soo soo good. I love the way if is designed. I had been for concerts here. Really had a great time. Loved the food. Nice ambience.'), ('Rated 4.0', 'RATED\\\\n  Bollywood nights on weekend is their USP!\\\\n\\\\nDedicated dance floor, decent crowd and zomato gold makes it worth a visit. Perfect place to celebrate any occasion with friends.\\\\n\\\\nFood is pretty average and their is scope of improvement.'), ('Rated 4.0', \\\"RATED\\\\n  OPUS is beautiful. It has got great music and a super awesome dance floor. If you are in a mood to enjoy live nice music- it's the right place for you and even if you want the loud music for dance-The right place for you. great food and ambiance. Not to mention the big Screen view and the food presentation. Do give it a try to make your evening beautiful.\\\"), ('Rated 4.0', 'RATED\\\\n  Opus: Grand Dance Floor and a superb pub experience. Extraordinary Music and electrifying ppl, had a big bash in opus. We had real good pizzas with some mind blowing cocktails. It\\u00c3\\u0083\\\\x83\\u00c3\\u0082\\\\x83\\u00c3\\u0083\\\\x82\\u00c3\\u0082\\\\x82\\u00c3\\u0083\\\\x83\\u00c3\\u0082\\\\x82\\u00c3\\u0083\\\\x82\\u00c3\\u0082\\\\x92s has the best dance floor in Bangalore for sure, very neatly maintained and very good staff. Kudos team opus you people were great.'), ('Rated 4.0', 'RATED\\\\n  Had been to this place for a treat.. Absolutely loved the ambience of this place with nice seating.. A giant screen to watch live events is cool.. Loved all the dishes except for the platter we ordered.. Worth a visit..'), ('Rated 2.0', \\\"RATED\\\\n  I visited the place with my brother on the 24th of November to celebrate my birthday. The club looks great and has a very nice ambience but the quantity of drinks and food were not worth the price we were paying for it . The serving size was minisculish and did not make sense at the price charged. The DJ was boring and was playing very dull music. All in all a very sad experience can't call it a club !\\\"), ('Rated 3.0', 'RATED\\\\n  Initially the service was very slow with food and drinks arriving one hour after the order. The quality of the food needs to be improved as it was not that great. Then the staff was very accommodating after we raised our concern. It was my friends bday and they got us a cake as well to celebrate. A mixed review I will say'), ('Rated 5.0', 'RATED\\\\n  Best experience.. to begin.. ample parking space with valet.. options for seating based on your mood.. if you want quiet well lit place.. it\\u00c3\\u0083\\\\x83\\u00c3\\u0082\\\\x83\\u00c3\\u0083\\\\x82\\u00c3\\u0082\\\\x82\\u00c3\\u0083\\\\x83\\u00c3\\u0082\\\\x82\\u00c3\\u0083\\\\x82\\u00c3\\u0082\\\\x92s there.. if you like loud music with dance floor.. it\\u00c3\\u0083\\\\x83\\u00c3\\u0082\\\\x83\\u00c3\\u0083\\\\x82\\u00c3\\u0082\\\\x82\\u00c3\\u0083\\\\x83\\u00c3\\u0082\\\\x82\\u00c3\\u0083\\\\x82\\u00c3\\u0082\\\\x92s there.. and if you want isolated smoking place.. it\\u00c3\\u0083\\\\x83\\u00c3\\u0082\\\\x83\\u00c3\\u0083\\\\x82\\u00c3\\u0082\\\\x82\\u00c3\\u0083\\\\x83\\u00c3\\u0082\\\\x82\\u00c3\\u0083\\\\x82\\u00c3\\u0082\\\\x92s there..\\\\nstaff are very courteous and they suggest options and give clarity.. Special thanks to Charles and Subhash who made our evening special.. even we got food outside of menu..\\\\nApple martini, broccoli, Paneer, pizza are must try..'), ('Rated 5.0', 'RATED\\\\n  Went for a girls\\u00c3\\u0083\\\\x83\\u00c3\\u0082\\\\x83\\u00c3\\u0083\\\\x82\\u00c3\\u0082\\\\x82\\u00c3\\u0083\\\\x83\\u00c3\\u0082\\\\x82\\u00c3\\u0083\\\\x82\\u00c3\\u0082\\\\x92 outing here on a Tuesday night! And Voila! It was ladies night! Each of us got 2 free cocktail/mocktail/wine! To top that, we also used our Zomato Gold!\\\\nHad a lot of fun, the ambiance was amazing, if you are in a mood to party!\\\\nThe starters, especially the Nachos were lip smacking!\\\\nThe drinks were delicious too! Even the free ones were made with precision and maintaining the quality! :)\\\\nLovely experience .. Will visit again for sure!'), ('Rated 4.0', \\\"RATED\\\\n  We went for a friend's treat and unfortunately couldn't get a table downstairs, but the screen and the ambience is a rare sight in the town. The dj was great and the overall food and drinks were also okay. There was an issue with a service but overall it got sorted out thanks to the staff\\\"), ('Rated 5.0', 'RATED\\\\n  I can safely say that this place deserves the credit to be one of the best dance floors of Bangalore. The crowd is amazing, the ambience exhilarating & electrifying. The place feels like a classic bar and doesn\\u00c3\\u0083\\\\x83\\u00c3\\u0082\\\\x83\\u00c3\\u0083\\\\x82\\u00c3\\u0082\\\\x82\\u00c3\\u0083\\\\x83\\u00c3\\u0082\\\\x82\\u00c3\\u0083\\\\x82\\u00c3\\u0082\\\\x92t disappoint you in any way.\\\\n\\\\nThe food here is good though we didn\\u00c3\\u0083\\\\x83\\u00c3\\u0082\\\\x83\\u00c3\\u0083\\\\x82\\u00c3\\u0082\\\\x82\\u00c3\\u0083\\\\x83\\u00c3\\u0082\\\\x82\\u00c3\\u0083\\\\x82\\u00c3\\u0082\\\\x92t have much of it. LIIT here is actually good in drinks and made real strong.\\\\n\\\\nGo and definitely try this out, people of Bangalore.'), ('Rated 4.0', 'RATED\\\\n  Amazing place!! Crowd is good enough!! Great music!! Has good dance floor with a huge screen playing the video of the songs being played. There is 2 floors to and also a outdoor seating for hukka.. They also serve buffet I guess...\\\\n\\\\nWe had taste of India pizza, falafel, paneer Tikka and frozen blue.. The taste of food that I had here was average I would say..service was good..\\\\n\\\\nService :3.5/5\\\\nValue for money :3.5/5\\\\nFood:3/5\\\\nAmbience :4/5'), ('Rated 5.0', 'RATED\\\\n  The club has an awesome ambience and the music was really good. We had ordered chicken cafreal and pork vindaloo, both these dishes were fantastic.\\\\nThe service was prompt and all the staff members were extremely polite.\\\\nWould definitely visit again, hopefully on a Friday next time.'), ('Rated 5.0', 'RATED\\\\n  Went for a girls\\u00c3\\u0083\\\\x83\\u00c3\\u0082\\\\x83\\u00c3\\u0083\\\\x82\\u00c3\\u0082\\\\x82\\u00c3\\u0083\\\\x83\\u00c3\\u0082\\\\x82\\u00c3\\u0083\\\\x82\\u00c3\\u0082\\\\x92 outing here on a Tuesday night! And Voila! It was ladies night! Each of us got 2 free cocktail/mocktail/wine! To top that, we also used our Zomato Gold!\\\\nHad a lot of fun, the ambiance was amazing, if you are in a mood to party!\\\\nThe starters, especially the Nachos were lip smacking!\\\\nThe drinks were delicious too! Even the free ones were made with precision and maintaining the quality! :)\\\\nLovely experience .. Will visit again for sure!'), ('Rated 4.0', \\\"RATED\\\\n  We went for a friend's treat and unfortunately couldn't get a table downstairs, but the screen and the ambience is a rare sight in the town. The dj was great and the overall food and drinks were also okay. There was an issue with a service but overall it got sorted out thanks to the staff\\\"), ('Rated 5.0', 'RATED\\\\n  I can safely say that this place deserves the credit to be one of the best dance floors of Bangalore. The crowd is amazing, the ambience exhilarating & electrifying. The place feels like a classic bar and doesn\\u00c3\\u0083\\\\x83\\u00c3\\u0082\\\\x83\\u00c3\\u0083\\\\x82\\u00c3\\u0082\\\\x82\\u00c3\\u0083\\\\x83\\u00c3\\u0082\\\\x82\\u00c3\\u0083\\\\x82\\u00c3\\u0082\\\\x92t disappoint you in any way.\\\\n\\\\nThe food here is good though we didn\\u00c3\\u0083\\\\x83\\u00c3\\u0082\\\\x83\\u00c3\\u0083\\\\x82\\u00c3\\u0082\\\\x82\\u00c3\\u0083\\\\x83\\u00c3\\u0082\\\\x82\\u00c3\\u0083\\\\x82\\u00c3\\u0082\\\\x92t have much of it. LIIT here is actually good in drinks and made real strong.\\\\n\\\\nGo and definitely try this out, people of Bangalore.'), ('Rated 4.0', 'RATED\\\\n  Amazing place!! Crowd is good enough!! Great music!! Has good dance floor with a huge screen playing the video of the songs being played. There is 2 floors to and also a outdoor seating for hukka.. They also serve buffet I guess...\\\\n\\\\nWe had taste of India pizza, falafel, paneer Tikka and frozen blue.. The taste of food that I had here was average I would say..service was good..\\\\n\\\\nService :3.5/5\\\\nValue for money :3.5/5\\\\nFood:3/5\\\\nAmbience :4/5'), ('Rated 5.0', 'RATED\\\\n  The club has an awesome ambience and the music was really good. We had ordered chicken cafreal and pork vindaloo, both these dishes were fantastic.\\\\nThe service was prompt and all the staff members were extremely polite.\\\\nWould definitely visit again, hopefully on a Friday next time.'), ('Rated 5.0', \\\"RATED\\\\n  This place has one of the best dance floors and dj in the town!\\\\nThe Ambience is good and it's a well setup place. Staff is friendly and the service is quick.\\\\nWe had ordered one veg platter, chicken Tikka and taste of India pizza for food. They were good.\\\\nFor drinks, we ordered bira, white rum with pineapple, lemon ice tea and frozen blue. This was all accompanied by a double apple hukkah. It was pretty small.\\\\n\\\\nIf you love dancing partying, this is the place for you. They have Bollywood night on Fridays.\\\"), ('Rated 3.0', 'RATED\\\\n  The place is quite spacious! But it was too crowded as we went on a dandiya night this year. They have arranged pretty sticks and other decor! Didn\\u00c3\\u0083\\\\x83\\u00c3\\u0082\\\\x83\\u00c3\\u0083\\\\x82\\u00c3\\u0082\\\\x82\\u00c3\\u0083\\\\x83\\u00c3\\u0082\\\\x82\\u00c3\\u0083\\\\x82\\u00c3\\u0082\\\\x92t try much over there just have fries, paneer tikka it was good. Drinks are also fine . But such an expensive place if we compare with other ( with respect to food & drinks ). DJ was okay in the start but at the end it\\u00c3\\u0083\\\\x83\\u00c3\\u0082\\\\x83\\u00c3\\u0083\\\\x82\\u00c3\\u0082\\\\x82\\u00c3\\u0083\\\\x83\\u00c3\\u0082\\\\x82\\u00c3\\u0083\\\\x82\\u00c3\\u0082\\\\x92s a pain to ears. Overall clubbing I would say good place as the have full space for dance.'), ('Rated 5.0', 'RATED\\\\n  One of the best dance floors you will come across in Bangalore! Located in Sarjapur, the ambience is amazing and the atmosphere is always so energetic. The sitting area and the DJ podium is so well designed. The service also is very good for such a crowded dance club. The place is not very expensive and Gold makes it even more affordable. Must visit!'), ('Rated 5.0', 'RATED\\\\n  awesome place to chill, amazing food and drinks?\\\\nthe platter was good, and the music was awesome, bollywood night is awesome. the ambience is good and good place to hangout.'), ('Rated 3.0', \\\"RATED\\\\n  We went there on Dandiya night but it was normal DJ night which happens every weekend. They played Hollywood songs for Dandiya night. Although DJ was good. The place were over crowded and they stuffed people more than they can accommodate. There were no place to dance and because of that it become suffocating and thus we had to leave early.\\\\n\\\\nThey charged extra entry fees saying it's Dandiya night but there were nothing like it.\\\\n\\\\nOn top of it they charge 10% service charge on top of GST which is totally illegal. When we denied they said it's restaurant policy and we have to pay it. Food is good but expensive.\\\\n\\\\nOverall moderate experience.\\\"), ('Rated 5.0', \\\"RATED\\\\n  This place has one of the best dance floors and dj in the town!\\\\nThe Ambience is good and it's a well setup place. Staff is friendly and the service is quick.\\\\nWe had ordered one veg platter, chicken Tikka and taste of India pizza for food. They were good.\\\\nFor drinks, we ordered bira, white rum with pineapple, lemon ice tea and frozen blue. This was all accompanied by a double apple hukkah. It was pretty small.\\\\n\\\\nIf you love dancing partying, this is the place for you. They have Bollywood night on Fridays.\\\"), ('Rated 3.0', 'RATED\\\\n  The place is quite spacious! But it was too crowded as we went on a dandiya night this year. They have arranged pretty sticks and other decor! Didn\\u00c3\\u0083\\\\x83\\u00c3\\u0082\\\\x83\\u00c3\\u0083\\\\x82\\u00c3\\u0082\\\\x82\\u00c3\\u0083\\\\x83\\u00c3\\u0082\\\\x82\\u00c3\\u0083\\\\x82\\u00c3\\u0082\\\\x92t try much over there just have fries, paneer tikka it was good. Drinks are also fine . But such an expensive place if we compare with other ( with respect to food & drinks ). DJ was okay in the start but at the end it\\u00c3\\u0083\\\\x83\\u00c3\\u0082\\\\x83\\u00c3\\u0083\\\\x82\\u00c3\\u0082\\\\x82\\u00c3\\u0083\\\\x83\\u00c3\\u0082\\\\x82\\u00c3\\u0083\\\\x82\\u00c3\\u0082\\\\x92s a pain to ears. Overall clubbing I would say good place as the have full space for dance.'), ('Rated 5.0', 'RATED\\\\n  One of the best dance floors you will come across in Bangalore! Located in Sarjapur, the ambience is amazing and the atmosphere is always so energetic. The sitting area and the DJ podium is so well designed. The service also is very good for such a crowded dance club. The place is not very expensive and Gold makes it even more affordable. Must visit!'), ('Rated 5.0', 'RATED\\\\n  awesome place to chill, amazing food and drinks?\\\\nthe platter was good, and the music was awesome, bollywood night is awesome. the ambience is good and good place to hangout.'), ('Rated 3.0', \\\"RATED\\\\n  We went there on Dandiya night but it was normal DJ night which happens every weekend. They played Hollywood songs for Dandiya night. Although DJ was good. The place were over crowded and they stuffed people more than they can accommodate. There were no place to dance and because of that it become suffocating and thus we had to leave early.\\\\n\\\\nThey charged extra entry fees saying it's Dandiya night but there were nothing like it.\\\\n\\\\nOn top of it they charge 10% service charge on top of GST which is totally illegal. When we denied they said it's restaurant policy and we have to pay it. Food is good but expensive.\\\\n\\\\nOverall moderate experience.\\\"), ('Rated 4.0', 'RATED\\\\n  Opus is one spot for people who want to dance, chill, sit and relax and sip on their drinks, conduct office/personal parties. The place is a high octane arena for all party goers. Ambience is good. Variety of liquor options available. Pocket friendly Entry fee. Food is okayish. Crowd is maximum on weekends post 10:30pm. Overall the place gets- 4/5 ??'), ('Rated 4.0', 'RATED\\\\n  Great place to hangout with best friends . Dance floor was great and loved the DJ, with great ambiance. Food was yummy and too tasty. Drinks was good as expected and the staffs are kind enough to listen and serve the order so quickly. Enjoyed the place .'), ('Rated 4.0', 'RATED\\\\n  Prompt service nice, staff are very corteous very quickly service, DJ great played very nice bollywood music, superb ambiance and dance floor.'), ('Rated 4.0', 'RATED\\\\n  Opus is one spot for people who want to dance, chill, sit and relax and sip on their drinks, conduct office/personal parties. The place is a high octane arena for all party goers. Ambience is good. Variety of liquor options available. Pocket friendly Entry fee. Food is okayish. Crowd is maximum on weekends post 10:30pm. Overall the place gets- 4/5 ??'), ('Rated 4.0', 'RATED\\\\n  Great place to hangout with best friends . Dance floor was great and loved the DJ, with great ambiance. Food was yummy and too tasty. Drinks was good as expected and the staffs are kind enough to listen and serve the order so quickly. Enjoyed the place .'), ('Rated 4.0', 'RATED\\\\n  Prompt service nice, staff are very corteous very quickly service, DJ great played very nice bollywood music, superb ambiance and dance floor.'), ('Rated 2.0', 'RATED\\\\n  Music and DJ are good. But food and drinks are not up to the mark. Electric environment for dancing with DJ playing awesome shuffle.\\\\n\\\\nMy experience was not good. Although few drinks were available, it was told initially that these drinks are over. Later I came to know that drinks were available at bar. Due to some confusion this happened. Later, Zomato Gold was denied at bar counter. Food served was limited and not up to mark.\\\\n\\\\nStaffs were courteous but not fully trained. Rating below average as my experience was not good with food, drinks and zomato gold service.'), ('Rated 1.0', \\\"RATED\\\\n  I had to give one star because I couldn't give zero which it truly deserves. To write a review I had to give one star. Please, don't visit on Saturday night of you like weekend to be fun. Its totally turn off and will spoil your mood so much that you have search for another happening bar while sitting on that table. The DJ makes the environment so bad you can't even enjoy the drink. Please avoid this place as there are many places to go in bangalore.\\\"), ('Rated 4.0', \\\"RATED\\\\n  A great place for clubbing.If you want to enjoy night life in Bangalore, then must visit. Have visited the place both in weekday and weekend. Very crowded.The staff is good and helpful as we were not getting seats and they helped us to get one. But food service is not that great. The dance floor is for all the dance lovers. Even though it is not big enough but it is better than other places i have visited. Bollywood night on friday's is must for all the Bollywood lovers. \\\\n\\\\nOverall Superb place to chill & enjoy night life.\\\"), ('Rated 5.0', 'RATED\\\\n  Superb night club in town... Bollywood night on Friday Eve is just awesome... Great service by TOTO... Everything was prepared and served just appropriately nice...'), ('Rated 5.0', 'RATED\\\\n  Whatta a place, my visit was simply superb..great hospitality nice place for getogether good food awesome ambiance was there in my friends birthday.\\\\n\\\\nCheers guys, will surely visit soon.'), ('Rated 2.0', 'RATED\\\\n  Music and DJ are good. But food and drinks are not up to the mark. Electric environment for dancing with DJ playing awesome shuffle.\\\\n\\\\nMy experience was not good. Although few drinks were available, it was told initially that these drinks are over. Later I came to know that drinks were available at bar. Due to some confusion this happened. Later, Zomato Gold was denied at bar counter. Food served was limited and not up to mark.\\\\n\\\\nStaffs were courteous but not fully trained. Rating below average as my experience was not good with food, drinks and zomato gold service.'), ('Rated 1.0', \\\"RATED\\\\n  I had to give one star because I couldn't give zero which it truly deserves. To write a review I had to give one star. Please, don't visit on Saturday night of you like weekend to be fun. Its totally turn off and will spoil your mood so much that you have search for another happening bar while sitting on that table. The DJ makes the environment so bad you can't even enjoy the drink. Please avoid this place as there are many places to go in bangalore.\\\"), ('Rated 4.0', \\\"RATED\\\\n  A great place for clubbing.If you want to enjoy night life in Bangalore, then must visit. Have visited the place both in weekday and weekend. Very crowded.The staff is good and helpful as we were not getting seats and they helped us to get one. But food service is not that great. The dance floor is for all the dance lovers. Even though it is not big enough but it is better than other places i have visited. Bollywood night on friday's is must for all the Bollywood lovers. \\\\n\\\\nOverall Superb place to chill & enjoy night life.\\\"), ('Rated 5.0', 'RATED\\\\n  Superb night club in town... Bollywood night on Friday Eve is just awesome... Great service by TOTO... Everything was prepared and served just appropriately nice...'), ('Rated 5.0', 'RATED\\\\n  Whatta a place, my visit was simply superb..great hospitality nice place for getogether good food awesome ambiance was there in my friends birthday.\\\\n\\\\nCheers guys, will surely visit soon.'), ('Rated 5.0', 'RATED\\\\n  We Went to opus on last Saturday with a team gathering for about 16 of us,We always plan to move to opus but due to some reason sometimes plans gets canceled,This is the place very huge compare to big brewsky sky in Sharja pur.\\\\nWe had enjoyed a lot but I was not knowing they serve the real north Indian food,which was beyond expectation,I thought in a club the food would be average like some other clubs,we had enjoyed food better than the liquor,The greeting manner is really astounding by their team and I must say they are very much focused on their standards and qualities,\\\\nwe met Himanshu (Manager)was very courteous by asking how do you like the food and service?which people expect more in fine dining Restaurant.\\\\nIt was really really nice,expect the same @guys .....Good work....\\\\nAmbience-10/8\\\\nFood -10/9\\\\nMusic-10/7\\\\nService-10/9\\\\nOverall-Out standing'), ('Rated 5.0', 'RATED\\\\n  It was osm I heard about this place this place realy rocks the cocktail bitter moon .A touch of peach was great n the guy siddhant rocks he realy help us to make are evening great the Wednesday guys you should visist this place and meet Mr siddhant ...cheers team OPUS...'), ('Rated 5.0', 'RATED\\\\n  Opus is called wonderful super club in the city.. Honesty I am saying that because this was my experience at OPUS.. Mr Charles, Mr Himanshu, Miss Ekta and Mr Siddhant was the great.. Because of these all guys I got my best party at Opus. Even all food was mouthwatering and delicious. All cocktail was really nice and that was called opus special .. Serving time was too good and all service guys was too polite and honest during all service .. I will come again here only because I love Opus.. Interior was really amazing even all lighting also.. Thanks opus and opus team for given great experience..'), ('Rated 4.0', 'RATED\\\\n  I visited this place on a weekday for a office party.the ambience is quite nice..although we seated at the backside, but dey have good music.foodwise and drink wise, I have to say quite good. We mainly had veg and non veg starters and those were yum. This is a place, you can surely visit with friends.'), ('Rated 5.0', 'RATED\\\\n  An awsom place with great ambience good food good music. The 2 storied place the centre view from the top is superb. Loved the place had a great time.'), ('Rated 5.0', 'RATED\\\\n  We Went to opus on last Saturday with a team gathering for about 16 of us,We always plan to move to opus but due to some reason sometimes plans gets canceled,This is the place very huge compare to big brewsky sky in Sharja pur.\\\\nWe had enjoyed a lot but I was not knowing they serve the real north Indian food,which was beyond expectation,I thought in a club the food would be average like some other clubs,we had enjoyed food better than the liquor,The greeting manner is really astounding by their team and I must say they are very much focused on their standards and qualities,\\\\nwe met Himanshu (Manager)was very courteous by asking how do you like the food and service?which people expect more in fine dining Restaurant.\\\\nIt was really really nice,expect the same @guys .....Good work....\\\\nAmbience-10/8\\\\nFood -10/9\\\\nMusic-10/7\\\\nService-10/9\\\\nOverall-Out standing'), ('Rated 5.0', 'RATED\\\\n  It was osm I heard about this place this place realy rocks the cocktail bitter moon .A touch of peach was great n the guy siddhant rocks he realy help us to make are evening great the Wednesday guys you should visist this place and meet Mr siddhant ...cheers team OPUS...'), ('Rated 5.0', 'RATED\\\\n  Opus is called wonderful super club in the city.. Honesty I am saying that because this was my experience at OPUS.. Mr Charles, Mr Himanshu, Miss Ekta and Mr Siddhant was the great.. Because of these all guys I got my best party at Opus. Even all food was mouthwatering and delicious. All cocktail was really nice and that was called opus special .. Serving time was too good and all service guys was too polite and honest during all service .. I will come again here only because I love Opus.. Interior was really amazing even all lighting also.. Thanks opus and opus team for given great experience..'), ('Rated 4.0', 'RATED\\\\n  I visited this place on a weekday for a office party.the ambience is quite nice..although we seated at the backside, but dey have good music.foodwise and drink wise, I have to say quite good. We mainly had veg and non veg starters and those were yum. This is a place, you can surely visit with friends.'), ('Rated 5.0', 'RATED\\\\n  An awsom place with great ambience good food good music. The 2 storied place the centre view from the top is superb. Loved the place had a great time.'), ('Rated 3.0', 'RATED\\\\n  This a new party place in Bangalore and I heard a lot about this place from my friends.\\\\nSo I thought of going here. The place was a bit cold for a Saturday night.\\\\nBut later in the crowd pocked up but still It wasn\\u00c3\\u0083\\\\x83\\u00c3\\u0082\\\\x83\\u00c3\\u0083\\\\x82\\u00c3\\u0082\\\\x82\\u00c3\\u0083\\\\x83\\u00c3\\u0082\\\\x82\\u00c3\\u0083\\\\x82\\u00c3\\u0082\\\\x92t as fun as I\\u00c3\\u0083\\\\x83\\u00c3\\u0082\\\\x83\\u00c3\\u0083\\\\x82\\u00c3\\u0082\\\\x82\\u00c3\\u0083\\\\x83\\u00c3\\u0082\\\\x82\\u00c3\\u0083\\\\x82\\u00c3\\u0082\\\\x92d heard people saying.\\\\nOne recommendation is that if you are booking a table., then book the table on ground floor because it\\u00c3\\u0083\\\\x83\\u00c3\\u0082\\\\x83\\u00c3\\u0083\\\\x82\\u00c3\\u0082\\\\x82\\u00c3\\u0083\\\\x83\\u00c3\\u0082\\\\x82\\u00c3\\u0083\\\\x82\\u00c3\\u0082\\\\x92s much better than the first floor.\\\\nI\\u00c3\\u0083\\\\x83\\u00c3\\u0082\\\\x83\\u00c3\\u0083\\\\x82\\u00c3\\u0082\\\\x82\\u00c3\\u0083\\\\x83\\u00c3\\u0082\\\\x82\\u00c3\\u0083\\\\x82\\u00c3\\u0082\\\\x92d like to give this place another chance so until next time.'), ('Rated 4.0', 'RATED\\\\n  Great ambience,good crowd and amazing music!! Though dj playing on Friday night wasn\\u00c3\\u0083\\\\x83\\u00c3\\u0082\\\\x83\\u00c3\\u0083\\\\x82\\u00c3\\u0082\\\\x82\\u00c3\\u0083\\\\x83\\u00c3\\u0082\\\\x82\\u00c3\\u0083\\\\x82\\u00c3\\u0082\\\\x92t that appreciable..but the music,more precisely the speakers there are really good !! They have the floor to roof length screen which is an add on !Drinks are good even the food tasted good !! And I cannot forget to mention about their washroom..the way to enter inside will definitely make you awww:)'), ('Rated 5.0', 'RATED\\\\n  Food and service is really good. We were served by Mr. Toto, he was very helpful and provided good service. Ambiance and music is really good if you want to have a dance floor feel.'), ('Rated 5.0', 'RATED\\\\n  Nice food, nice dance floor, friendly servers, special mention for Baran. Looking forward to the next visit. Will definitely recommend friends for a night out at this place.'), ('Rated 3.0', 'RATED\\\\n  Visited this place on this Friday with friends... After reading reviews in Zomato I had high hopes for service and food but I was disappointed...\\\\nAmbiance is electrifying but food and drinks are average... Staff is okay but service is very slow...'), ('Rated 3.0', 'RATED\\\\n  This a new party place in Bangalore and I heard a lot about this place from my friends.\\\\nSo I thought of going here. The place was a bit cold for a Saturday night.\\\\nBut later in the crowd pocked up but still It wasn\\u00c3\\u0083\\\\x83\\u00c3\\u0082\\\\x83\\u00c3\\u0083\\\\x82\\u00c3\\u0082\\\\x82\\u00c3\\u0083\\\\x83\\u00c3\\u0082\\\\x82\\u00c3\\u0083\\\\x82\\u00c3\\u0082\\\\x92t as fun as I\\u00c3\\u0083\\\\x83\\u00c3\\u0082\\\\x83\\u00c3\\u0083\\\\x82\\u00c3\\u0082\\\\x82\\u00c3\\u0083\\\\x83\\u00c3\\u0082\\\\x82\\u00c3\\u0083\\\\x82\\u00c3\\u0082\\\\x92d heard people saying.\\\\nOne recommendation is that if you are booking a table., then book the table on ground floor because it\\u00c3\\u0083\\\\x83\\u00c3\\u0082\\\\x83\\u00c3\\u0083\\\\x82\\u00c3\\u0082\\\\x82\\u00c3\\u0083\\\\x83\\u00c3\\u0082\\\\x82\\u00c3\\u0083\\\\x82\\u00c3\\u0082\\\\x92s much better than the first floor.\\\\nI\\u00c3\\u0083\\\\x83\\u00c3\\u0082\\\\x83\\u00c3\\u0083\\\\x82\\u00c3\\u0082\\\\x82\\u00c3\\u0083\\\\x83\\u00c3\\u0082\\\\x82\\u00c3\\u0083\\\\x82\\u00c3\\u0082\\\\x92d like to give this place another chance so until next time.'), ('Rated 4.0', 'RATED\\\\n  Great ambience,good crowd and amazing music!! Though dj playing on Friday night wasn\\u00c3\\u0083\\\\x83\\u00c3\\u0082\\\\x83\\u00c3\\u0083\\\\x82\\u00c3\\u0082\\\\x82\\u00c3\\u0083\\\\x83\\u00c3\\u0082\\\\x82\\u00c3\\u0083\\\\x82\\u00c3\\u0082\\\\x92t that appreciable..but the music,more precisely the speakers there are really good !! They have the floor to roof length screen which is an add on !Drinks are good even the food tasted good !! And I cannot forget to mention about their washroom..the way to enter inside will definitely make you awww:)'), ('Rated 5.0', 'RATED\\\\n  Food and service is really good. We were served by Mr. Toto, he was very helpful and provided good service. Ambiance and music is really good if you want to have a dance floor feel.'), ('Rated 5.0', 'RATED\\\\n  Nice food, nice dance floor, friendly servers, special mention for Baran. Looking forward to the next visit. Will definitely recommend friends for a night out at this place.'), ('Rated 3.0', 'RATED\\\\n  Visited this place on this Friday with friends... After reading reviews in Zomato I had high hopes for service and food but I was disappointed...\\\\nAmbiance is electrifying but food and drinks are average... Staff is okay but service is very slow...'), ('Rated 3.0', 'RATED\\\\n  Visited this place on friday evening , it was bollywood night , dj was average, he was playing full songs that personally i didn\\u00c3\\u0083\\\\x83\\u00c3\\u0082\\\\x83\\u00c3\\u0083\\\\x82\\u00c3\\u0082\\\\x82\\u00c3\\u0083\\\\x83\\u00c3\\u0082\\\\x82\\u00c3\\u0083\\\\x82\\u00c3\\u0082\\\\x92t liked it. Seating arrangement was not proper , they keep\\\\nMoving tables and chairs to make space on dance floor . Drinks were good. Ambience was electrifying . For food not everything from the menu was available. Service was good . Overall 3.5 star'), ('Rated 5.0', 'RATED\\\\n  OPUS in all its glory! Nicely arranged. Very courteous staffs. Lovely ambience, nice decor, good food, very nice server named \\\"TOTO\\\" (Ask him anything and he will bring). Good music and a big enough dance floor. Go with your gang and enjoy!'), ('Rated 4.0', 'RATED\\\\n  fine seating , quick service and value for money overall. tried ghee roasted mutton as per Zomato recommendation. it was soft and juicy. beer was aptly priced. value for money overall'), ('Rated 4.0', 'RATED\\\\n  One of it\\u00c3\\u0083\\\\x83\\u00c3\\u0082\\\\x83\\u00c3\\u0083\\\\x82\\u00c3\\u0082\\\\x82\\u00c3\\u0083\\\\x83\\u00c3\\u0082\\\\x82\\u00c3\\u0083\\\\x82\\u00c3\\u0082\\\\x92s kind clubbing place in Sarjapur or i would say in Bangalore.They have a huge dance floor.Loved their music and DJ Kunal.The prices are on the higher side.One can avail zomato gold on the drinks.Ambience of the place is totally ravishing.Loved the cocktails and food is also nice.'), ('Rated 5.0', 'RATED\\\\n  Amazing dance floor, great shots and cooperative staff. Our server Gangadhar was very polite and prompt. Only word of caution before 9 pm it might seem a bit it dull.'), ('Rated 3.0', 'RATED\\\\n  Visited this place on friday evening , it was bollywood night , dj was average, he was playing full songs that personally i didn\\u00c3\\u0083\\\\x83\\u00c3\\u0082\\\\x83\\u00c3\\u0083\\\\x82\\u00c3\\u0082\\\\x82\\u00c3\\u0083\\\\x83\\u00c3\\u0082\\\\x82\\u00c3\\u0083\\\\x82\\u00c3\\u0082\\\\x92t liked it. Seating arrangement was not proper , they keep\\\\nMoving tables and chairs to make space on dance floor . Drinks were good. Ambience was electrifying . For food not everything from the menu was available. Service was good . Overall 3.5 star'), ('Rated 5.0', 'RATED\\\\n  OPUS in all its glory! Nicely arranged. Very courteous staffs. Lovely ambience, nice decor, good food, very nice server named \\\"TOTO\\\" (Ask him anything and he will bring). Good music and a big enough dance floor. Go with your gang and enjoy!'), ('Rated 4.0', 'RATED\\\\n  fine seating , quick service and value for money overall. tried ghee roasted mutton as per Zomato recommendation. it was soft and juicy. beer was aptly priced. value for money overall'), ('Rated 4.0', 'RATED\\\\n  One of it\\u00c3\\u0083\\\\x83\\u00c3\\u0082\\\\x83\\u00c3\\u0083\\\\x82\\u00c3\\u0082\\\\x82\\u00c3\\u0083\\\\x83\\u00c3\\u0082\\\\x82\\u00c3\\u0083\\\\x82\\u00c3\\u0082\\\\x92s kind clubbing place in Sarjapur or i would say in Bangalore.They have a huge dance floor.Loved their music and DJ Kunal.The prices are on the higher side.One can avail zomato gold on the drinks.Ambience of the place is totally ravishing.Loved the cocktails and food is also nice.'), ('Rated 5.0', 'RATED\\\\n  Amazing dance floor, great shots and cooperative staff. Our server Gangadhar was very polite and prompt. Only word of caution before 9 pm it might seem a bit it dull.'), ('Rated 5.0', 'RATED\\\\n  Music , ambience , food service top. Rating for everything.... Come and enjoy ...Awesome Bollywood night. Baran service was awesome ... He was very attentive and took care of whatever we need ..'), ('Rated 5.0', 'RATED\\\\n  Amazing place for party. Gangadhar is such a sport, Please contact him for booking and orders. Superb drinks and great ambiance. Food is great and drink you must try Californian liit.'), ('Rated 5.0', 'RATED\\\\n  One of the best ambience I have seen so far. Thoroughly enjoyed the time here.went with office colleagues for a team outing.large place with a gigantic screen at one end.\\\\nPerfect when I have any live screening.foods and drinks were nice , especially non veg platter is a must try.\\\\nCost wise , surely not a pocket friendly place. Will have to go with a mindset of heavy bill ?.\\\\n\\\\nFood - 4.5/5\\\\nAmbience - 5/5\\\\nOverall - 5/5\\\\n\\\\nKeep following !'), ('Rated 4.0', 'RATED\\\\n  Loved the place as I am Bollywood lover. ?Amazing place to dance like maniacs. Ambience being the best??\\\\nReally liked the food items, the following photos can be referred along with captioned names for the same!!\\\\nQuite common dishes but with super yummy taste!?\\\\n\\\\nThe only thing which can bother is seating facility, chairs aren\\u00c3\\u0083\\\\x83\\u00c3\\u0082\\\\x83\\u00c3\\u0083\\\\x82\\u00c3\\u0082\\\\x82\\u00c3\\u0083\\\\x83\\u00c3\\u0082\\\\x82\\u00c3\\u0083\\\\x82\\u00c3\\u0082\\\\x92t much comfortable. But you can have a reservation for sofa seating, that\\u00c3\\u0083\\\\x83\\u00c3\\u0082\\\\x83\\u00c3\\u0083\\\\x82\\u00c3\\u0082\\\\x82\\u00c3\\u0083\\\\x83\\u00c3\\u0082\\\\x82\\u00c3\\u0083\\\\x82\\u00c3\\u0082\\\\x92s fine??'), ('Rated 4.0', 'RATED\\\\n  Friday Shriday!\\\\n\\\\nA place for Bollywood lovers on Friday. Danced like Maniacs. Food and drinks were good but could\\u00c3\\u0083\\\\x83\\u00c3\\u0082\\\\x83\\u00c3\\u0083\\\\x82\\u00c3\\u0082\\\\x82\\u00c3\\u0083\\\\x83\\u00c3\\u0082\\\\x82\\u00c3\\u0083\\\\x82\\u00c3\\u0082\\\\x92ve been better, especially at that price.\\\\n\\\\nDJ is the the saviour for this place.\\\\n\\\\nOne tip- please step in after 10. Place is little sad before that.\\\\n\\\\nGo there for the DJ and not for food. Request for the seat with sofas while reservation. Tables with high chair isn\\u00c3\\u0083\\\\x83\\u00c3\\u0082\\\\x83\\u00c3\\u0083\\\\x82\\u00c3\\u0082\\\\x82\\u00c3\\u0083\\\\x83\\u00c3\\u0082\\\\x82\\u00c3\\u0083\\\\x82\\u00c3\\u0082\\\\x92t comfortable. ( but comfortable after two drinks ?)\\\\n\\\\nGo and dance like nobody\\u00c3\\u0083\\\\x83\\u00c3\\u0082\\\\x83\\u00c3\\u0083\\\\x82\\u00c3\\u0082\\\\x82\\u00c3\\u0083\\\\x83\\u00c3\\u0082\\\\x82\\u00c3\\u0083\\\\x82\\u00c3\\u0082\\\\x92s watching!'), ('Rated 5.0', 'RATED\\\\n  Music , ambience , food service top. Rating for everything.... Come and enjoy ...Awesome Bollywood night. Baran service was awesome ... He was very attentive and took care of whatever we need ..'), ('Rated 5.0', 'RATED\\\\n  Amazing place for party. Gangadhar is such a sport, Please contact him for booking and orders. Superb drinks and great ambiance. Food is great and drink you must try Californian liit.'), ('Rated 5.0', 'RATED\\\\n  One of the best ambience I have seen so far. Thoroughly enjoyed the time here.went with office colleagues for a team outing.large place with a gigantic screen at one end.\\\\nPerfect when I have any live screening.foods and drinks were nice , especially non veg platter is a must try.\\\\nCost wise , surely not a pocket friendly place. Will have to go with a mindset of heavy bill ?.\\\\n\\\\nFood - 4.5/5\\\\nAmbience - 5/5\\\\nOverall - 5/5\\\\n\\\\nKeep following !'), ('Rated 4.0', 'RATED\\\\n  Loved the place as I am Bollywood lover. ?Amazing place to dance like maniacs. Ambience being the best??\\\\nReally liked the food items, the following photos can be referred along with captioned names for the same!!\\\\nQuite common dishes but with super yummy taste!?\\\\n\\\\nThe only thing which can bother is seating facility, chairs aren\\u00c3\\u0083\\\\x83\\u00c3\\u0082\\\\x83\\u00c3\\u0083\\\\x82\\u00c3\\u0082\\\\x82\\u00c3\\u0083\\\\x83\\u00c3\\u0082\\\\x82\\u00c3\\u0083\\\\x82\\u00c3\\u0082\\\\x92t much comfortable. But you can have a reservation for sofa seating, that\\u00c3\\u0083\\\\x83\\u00c3\\u0082\\\\x83\\u00c3\\u0083\\\\x82\\u00c3\\u0082\\\\x82\\u00c3\\u0083\\\\x83\\u00c3\\u0082\\\\x82\\u00c3\\u0083\\\\x82\\u00c3\\u0082\\\\x92s fine??'), ('Rated 4.0', 'RATED\\\\n  Friday Shriday!\\\\n\\\\nA place for Bollywood lovers on Friday. Danced like Maniacs. Food and drinks were good but could\\u00c3\\u0083\\\\x83\\u00c3\\u0082\\\\x83\\u00c3\\u0083\\\\x82\\u00c3\\u0082\\\\x82\\u00c3\\u0083\\\\x83\\u00c3\\u0082\\\\x82\\u00c3\\u0083\\\\x82\\u00c3\\u0082\\\\x92ve been better, especially at that price.\\\\n\\\\nDJ is the the saviour for this place.\\\\n\\\\nOne tip- please step in after 10. Place is little sad before that.\\\\n\\\\nGo there for the DJ and not for food. Request for the seat with sofas while reservation. Tables with high chair isn\\u00c3\\u0083\\\\x83\\u00c3\\u0082\\\\x83\\u00c3\\u0083\\\\x82\\u00c3\\u0082\\\\x82\\u00c3\\u0083\\\\x83\\u00c3\\u0082\\\\x82\\u00c3\\u0083\\\\x82\\u00c3\\u0082\\\\x92t comfortable. ( but comfortable after two drinks ?)\\\\n\\\\nGo and dance like nobody\\u00c3\\u0083\\\\x83\\u00c3\\u0082\\\\x83\\u00c3\\u0083\\\\x82\\u00c3\\u0082\\\\x82\\u00c3\\u0083\\\\x83\\u00c3\\u0082\\\\x82\\u00c3\\u0083\\\\x82\\u00c3\\u0082\\\\x92s watching!'), ('Rated 4.0', \\\"RATED\\\\n  Opus experience was amazing !? had been there to celebrate my sister's bachelorette and it was the best decision ! Staff were extremely courteous, ambience- rustic and beautiful.\\\\nTheir drinks and food were good too. Friday night with Bollywood theme(mostly Punjabi though)was super fun. Special mention for the huge screen there. ?\\\\nMust visit !??\\\"), ('Rated 5.0', 'RATED\\\\n  Loved this place. On Saturdays like yesterday, the ambience is mind-blowing. Loved the cocktails here. Nachos and chicken cafreal are the best starters with single malts.?'), ('Rated 5.0', 'RATED\\\\n  Amazing place to spend a Friday evening with bollywood night. We entered there late with a cover charge of 1500 per couple (redeemable) the best thing about this club is that we can get food till 1 AM unlike other discs and pubs who closes the kitches around 11:30. DJ Hemanth was playing Bollywood tunes and the crowd was amazing. It is very much spacious. Food is equally good but the menu is limited. Didn\\u00c3\\u0083\\\\x83\\u00c3\\u0082\\\\x83\\u00c3\\u0083\\\\x82\\u00c3\\u0082\\\\x82\\u00c3\\u0083\\\\x83\\u00c3\\u0082\\\\x82\\u00c3\\u0083\\\\x82\\u00c3\\u0082\\\\x92t find any fish or sea food starters. Thus went for chicken caferal and schezwan chicken. Taste is good and quantity as well. Drinks are great, you can avail zomato gold 2+ 2 drinks offer here and the service is way too amazing despite of so much crowded night. They are helpful :) Looking forward for the restaurant which is under construction so we can have more food options'), ('Rated 4.0', \\\"RATED\\\\n  I didn't expect this place to be so huge. They have a great dance floor and a screen for streaming sports. Not to mention, the path to the restroom left me awestruck!\\\\n\\\\nComing to the food, we ordered a chili cheese toast and baked macaroni creamy pasta. The toast was pretty average but the macaroni pasta was out of the world. Would highly recommend the baked macaroni creamy pasta because it is the best cheesy macaroni in town!!\\\"), ('Rated 3.0', 'RATED\\\\n  We were denied two different whiskey at the counter as they were out of stock. So there was no communication between the bar guys and the bill counter. Food was not great but not bad. They need to work on the menu and overall coordination.'), ('Rated 4.0', \\\"RATED\\\\n  Opus experience was amazing !? had been there to celebrate my sister's bachelorette and it was the best decision ! Staff were extremely courteous, ambience- rustic and beautiful.\\\\nTheir drinks and food were good too. Friday night with Bollywood theme(mostly Punjabi though)was super fun. Special mention for the huge screen there. ?\\\\nMust visit !??\\\"), ('Rated 5.0', 'RATED\\\\n  Loved this place. On Saturdays like yesterday, the ambience is mind-blowing. Loved the cocktails here. Nachos and chicken cafreal are the best starters with single malts.?'), ('Rated 5.0', 'RATED\\\\n  Amazing place to spend a Friday evening with bollywood night. We entered there late with a cover charge of 1500 per couple (redeemable) the best thing about this club is that we can get food till 1 AM unlike other discs and pubs who closes the kitches around 11:30. DJ Hemanth was playing Bollywood tunes and the crowd was amazing. It is very much spacious. Food is equally good but the menu is limited. Didn\\u00c3\\u0083\\\\x83\\u00c3\\u0082\\\\x83\\u00c3\\u0083\\\\x82\\u00c3\\u0082\\\\x82\\u00c3\\u0083\\\\x83\\u00c3\\u0082\\\\x82\\u00c3\\u0083\\\\x82\\u00c3\\u0082\\\\x92t find any fish or sea food starters. Thus went for chicken caferal and schezwan chicken. Taste is good and quantity as well. Drinks are great, you can avail zomato gold 2+ 2 drinks offer here and the service is way too amazing despite of so much crowded night. They are helpful :) Looking forward for the restaurant which is under construction so we can have more food options'), ('Rated 4.0', \\\"RATED\\\\n  I didn't expect this place to be so huge. They have a great dance floor and a screen for streaming sports. Not to mention, the path to the restroom left me awestruck!\\\\n\\\\nComing to the food, we ordered a chili cheese toast and baked macaroni creamy pasta. The toast was pretty average but the macaroni pasta was out of the world. Would highly recommend the baked macaroni creamy pasta because it is the best cheesy macaroni in town!!\\\"), ('Rated 3.0', 'RATED\\\\n  We were denied two different whiskey at the counter as they were out of stock. So there was no communication between the bar guys and the bill counter. Food was not great but not bad. They need to work on the menu and overall coordination.')]\",\n          \"[('Rated 1.0', 'RATED\\\\n  We had ordered Oreo Shake, Vanilla Shake and Chocolate Shake. The delivery took a while and the Shakes were not sealed properly.\\\\nVanilla and Chocolate Shakes were watery. We were ripped off.'), ('Rated 5.0', 'RATED\\\\n  I have tried Fruitbowl, juices and ice creams. Its really awesome. The best part is Fruits are fresh and healthy. Will order again fresh healthy foods.')]\"\n        ],\n        \"semantic_type\": \"\",\n        \"description\": \"\"\n      }\n    },\n    {\n      \"column\": \"menu_item\",\n      \"properties\": {\n        \"dtype\": \"category\",\n        \"num_unique_values\": 8243,\n        \"samples\": [\n          \"['Classic Belgian Waffle', 'Scotch Waffle', 'Oreo Waffle', 'Choco Nirvana Waffle', 'Snow White Waffle', 'Mini Banoffee Waffle', 'Mocha Waffle', 'Nutella Waffle', 'Blueberry Cheese Cake Bubble Tea', 'Sea Breeze Bubble Tea', 'Litchi Bomb Bubble Tea', 'Watermelon Cooler Bubble Tea', 'Mango Sunrise Bubble Tea', 'Strawberry Cooler Bubble Tea', 'Kiwi Kwencher Bubble Tea', 'Make Your Own Bubble Tea', 'Mango Smoothie', 'Kiwi Smoothie', 'Strawberry Smoothie', 'Blueberry Smoothie', 'Oreo Shake', 'White Russian Shake', 'M Kat Shake', 'Bubble Gum Shake', 'Nutella Shake', 'Birthday Shake', 'Chocolate Shake', 'Snicker Shake', 'Classic Belgian Waffle', 'Scotch Waffle', 'Oreo Waffle', 'Choco Nirvana Waffle', 'Snow White Waffle', 'Mini Banoffee Waffle', 'Mocha Waffle', 'Nutella Waffle', 'Blueberry Cheese Cake Bubble Tea', 'Sea Breeze Bubble Tea', 'Litchi Bomb Bubble Tea', 'Watermelon Cooler Bubble Tea', 'Bahama Mama Bubble Tea', 'Mango Sunrise Bubble Tea', 'The Joker Bubble Tea', 'Strawberry Cooler Bubble Tea', 'Kiwi Kwencher Bubble Tea', 'Applejack Bubble Tea', 'Make Your Own Bubble Tea', 'Mango Smoothie', 'Kiwi Smoothie', 'Strawberry Smoothie', 'Blueberry Smoothie', 'Oreo Shake', 'Toffee Shake', 'White Russian Shake', 'M Kat Shake', 'Bubble Gum Shake', 'Nutella Shake', 'Birthday Shake', 'Chocolate Shake', 'Popcorn Shake', 'Snicker Shake']\",\n          \"['Murg Achari Kabab', 'Non Veg Platter', 'Paneer of Your Choice', 'Murg Tikka Masala', '2 Phulka', 'Tamatar Shorba', 'Palak Shorba', 'Shorba Sabz Bahar', 'Dal Shorba', 'Tamatar Dhania Shorba', 'Murg Shorba', 'Veg Sweet Corn Soup', 'Veg Hot and Sour Soup', 'Veg Manchow Soup', 'Veg Hakka Soup', 'Veg Wanton Soup', 'Veg Tum Yum Soup', 'Vegetable Noodle Soup', 'Burnt Garlic Lemon Soup', 'Garlic Pepper Mushroom Soup', 'Dragon Soup', 'Chicken Sweet Corn Soup', 'Chicken Hot and Sour Soup', 'Chicken Manchow Soup', 'Chicken Hakka Soup', 'Chicken Wanton Soup', 'Non Veg Tum Yum Soup', 'Chicken Clear Soup', 'Chicken Lung Fung Soup', 'Prawn Xeu Soup', 'Sea Food Spicy Soup', 'Mushroom Cream of Soup', 'Carrot and Ginger Soup', 'Spring Onion Cream of Soup', 'Chicken Cream of Soup', 'Fisherman Soup', 'Greek Salad', 'Spicy Corn Salad', 'Cheese and Tomato Salad', 'Russian Salad', 'Veg Macaroni Salad', 'Apple and Pear Salad', 'Chicken Cold Salad', 'Caesar Salad with Grilled Chicken', 'Chicken Greek Salad', 'Chicken Macaroni Salad Garlic', 'Hara Bharra Kabab', 'Papad Roll', 'Paneer Pakora', 'Mixed Pakora', 'Machli Tali Hui', 'Jhinga Pakora', 'Chatpate Gobhi', 'Vegetable Kabab', 'Paneer Hariyali Kabab', 'Paneer Tikka', 'Paneer Malai Kabab', 'Paneer Tiranga', 'Achari Paneer Tikka', 'Zaffrani Paneer', 'Shahi Phool', 'Tandoori Gobhi', 'Tandoori Bhutte', 'Tandoori Aloo', 'Tandoori Dhingri', 'Tandoori Simla Mirch', 'Veg Platter', 'Pista Murg Tlkka', 'Hare Pyaaz ke Tikke', 'Murg Potli Kabab', 'Murg Chettinad', 'Masaledaar Murg', 'Murg Achari Kabab', 'Murg Rajasthani', 'Murg Malai Kabab', 'Reshmi Seekh', 'Murg Angaar', 'Kalmi Kabab', 'Murg Adraki', 'Lasooni Tikka', 'Murg Chatpata', 'Murg Tikka', 'Pahadi Kabab', 'Panjara Kabab', 'Murg Seekh Kabab', 'Murg Ajwain', 'Murg Chaat', 'Kashmiri Kabab', 'Mutton Chettinad', 'Hare Pyaaz ke Mutton', 'Seekh Kabab', 'Shami Kabab', 'Dilkhush Kabab', 'Boti Kabab Peshawari', 'Gosht Nayaab', 'Burrah Kabab', 'Gosht Anmol', 'Gosht Sikandari', 'Tandoori Machli Methi', 'Machli Achari Tlkka', 'Machli Afghani', 'Machli Anmol', 'Machli Anarkali', 'Machli Koliwada', 'Machli Tikka', 'Tandoori Pomfret', 'Machli Ajwain', 'Tandoori Jhinga', 'Jhinga Irani', 'Machli Nayaab', 'Non Veg Platter', 'Fried Chilli Potato', 'Crispy Pepper Potato', 'Crispy Chilli American Corn', 'Vegetable Wanton', 'Golden Fried Baby Corn', 'Sesame Vegetable Fingers', 'Crispy Vegetables Schezwan', 'Paneer Satay', 'Veg Spring Rolls Oyster Choice', 'Pan Fried Chilli Chicken', 'Lat-Mai-Kai', 'La-Kay-Fa', 'Pan Fried Chilli Fish', 'Crispy Butter Garlic Prawn', 'Chicken Spring Rolls Oyster Choice', 'Drums of Fleaven', 'Chicken Wanton', 'Sliced Fried Chicken', 'Thai Fried Chicken', 'Chicken Sesame', 'Golden Fried Prawns', 'Prawns Pepper Chilli', 'Fish Finger', 'Chicken Satay', 'Crispy Lamb', 'Vegetable Croquettes', 'Cheese Balls', 'Corn Fritter', 'Barbeque Cottage Cheese', 'Barbeque Wings', 'Fish and Chips', 'Hara Bhara Kabab Masala', 'Sabzi Kolhapuri', 'Sabzi Ke Kofte', 'Paneer of Your Choice', 'Lasooni Palak', 'Methi Sabzi', 'Bharwan Aloo', 'Cheese Ke Kofte', 'Sabzi Achari', 'Baingan Bharta', 'Baingan Lazeez', 'Gobhi Kamaal', 'Sabzi Jaipuri', 'Kadai Sabzi', 'Sev Ki Sabzi', 'Sabzi thai Phrezi', 'Navratna Korma', 'Bharwan Simla Mirch', 'Bhendi Chamatkar', 'Dum Aloo Chutney', 'Dingri Mutter', 'Hari Makai Ki Sabzi', 'Dum Aloo', 'Dahi Bhendi', 'Bhendi Kurkure', 'Aloo with the choice of', 'Kaju Curry Masala', 'Malai Kofta', 'Methi Mutter Malai', 'Sarson Ka Saag', 'Kesari Dhingri', 'Kadi Pakodi', 'Gatte Ka Saag', 'Chana Pindi', 'Dal Makhani', 'Pancharanga Dal', 'Dal Maharani', 'Dal Palak', 'Murg Shahajani', 'Murg Anarkali', 'Chicken of Your Choice', 'Murg Hawa Mahal', 'Tangdi Pista', 'Murg Do Piaza', 'Raaga Shahi Murg', 'Murg Kali Mirch', 'Murg Tikka Masala', 'Shaan-e-Murg', 'Lassooni Tlkka Masala', 'Murg Malai Badami', 'Murg Pasinda', 'Murg Adraki Masala', 'Rogan Josh', 'Bhuna Gosht', 'Keema Mutter', 'Gosht Jaipuri', 'Gosht Masala', 'Gosht Hyderabadi', 'Keema Hariyali', 'Tawa Gosht', 'Kofta Lazeez', 'Shahi Gosht', 'Andeli Kofta', 'Machli Lazawaab', 'Goan Machli Curry', 'Machli Methi', 'Machli Masala', 'Machli Tamatar', 'Bombay Jhinga Masala', 'Goan Jhinga Masala', 'Jhinga Pepper Fry', 'Jhinga Bemisaal', 'Anda Korma', 'Anda Bhurji', 'Anda Masala', \\\"Devil's Choice\\\", 'Stir Fried American Corn with Chinese Greens', 'Vegetable Coin in Choice of your Sauce', 'Three Treasure Vegetables', 'Four Treasure Vegetables', 'Vegetable Balls in Hot Garlic Sauce', 'Baby Corn Manchurian', 'Mushroom Manchurian', 'Cauliflower Manchurian', 'Vegetable Manchurian', 'Spinach Manchurian', 'Diced Chilli Cheese', 'Vegetable Schezwan Sauce', 'Chilli Potato', 'Chicken Manchurian', 'Chilli Chicken', 'Chicken Schezwan', 'Shredded Chicken in choice of Sauce', 'Diced Chicken in choice of sauce', 'Crispy Chicken in Chilli Honey Sauce', 'Chicken in Garlic Sauce', 'Chicken in Hot Garlic Sauce', 'Hunan Chicken', 'Ginger Chicken', 'Chicken with Baby Corn', 'Chung King Chicken', 'Cantonese Chicken', 'Saiwoo Chicken', 'Chilli Lamb', 'Lamb Hot Garlic Sauce', 'Lamb with Mushroom', 'Shredded Lamb', 'Shredded Lamb Honkong Style', 'Lamb Pepper Salt', 'Chilli Fish', 'Slice Fish in Choice of Sauce', 'Fish Manchurian', 'Prawns Garlic Sauce', 'Prawn in Choice of Sauce', 'Prawns Manchurian', 'Prawns in Celery Sauce', 'Penne Arrabiata', 'Bolognese', 'Primavera', 'Penne with Pesto', 'Penne with Chicken', 'Sea Food Pasta', 'Cashews', 'French Fries', 'Cheese Cherry Peneapple Sticks', 'Chicken 65', 'Fried Prawns', 'Tandoori Roti', 'Khasta', 'Missi Roti', 'Makai Ki Roti', '2 Phulka', 'Saada Paratha', 'Saada Kulcha', 'Saada Naan', 'Rumali Roti', 'Garlic Naan', 'Butter Naan', 'Paneer Kulcha', 'Onion Kulcha', 'Methi Kulcha', 'Mixed Veg Paratha', 'Aloo Paratha', 'Methi Paratha', 'Gobhi Paratha', 'Cheese Naan', 'Keema Naan', 'Vegetable Biryani', 'Masala Khichdi', 'Kashmiri Pulao', 'Veg Pulao', 'Jeera Pulao', 'Peas Pulao', 'Saada Chawal', 'Dahi Chawal', 'Ghee Chawal', 'Gosht Biryani', 'Murg Biryani', 'Gosht Hyderabad Biryani', 'Murg Hyderabad Biryani', 'Jhinga Biryani', 'Dhingri Pulao', 'Phal Chaat', 'Tomato Raita', 'Potato Raita', 'Boondi Raita', 'Cucumber Raita', 'Pineapple Raita', 'Mixed Raita', 'Saada Papad', 'Masala Raita', 'Ginger Fried Rice', 'Garlic Fried Rice', 'Veg Fried Rice', 'Mushroom Fried Rice', 'Ginger Butter Fried Rice', 'Mixed Fried Rice', 'Veg Schezwan Fried Rice', 'Shanghai Rice', 'Veg Hakka Noodles', 'Veg Three Flavoured Hakka Noodles', 'Veg Chow Mein', 'Veg Chinese Chopsuey', 'Veg American Chopsuey', 'Egg Fried Rice', 'Chicken Fried Rice', 'Prawn Fried Rice', 'Non Veg Schezwan Fried Rice', 'Non Veg Hakka Noodles', 'Chicken Three Flavoured Hakka Noodles', 'Non Veg Chinese Chopsuey', 'Non Veg American Chopsuey', 'Mixed Chow Mein', 'Seventh Heaven', 'Virgin Marry', 'Pinacolada', 'Yellow Jacket', 'Little Engineer', 'Hawaiin Punch', 'Fruit Punch', 'Summer Cool', 'Pavillion Punch', 'Green Fields', 'Rosella', 'Ornato', 'Mango Bloom', 'Ornage Bloom', '|al Jeera', 'Masaledaar Chaas', 'Lassi', 'Cold Coffee with Ice Cream', 'Choice of Milk shakes', 'Gulab Jamoon', 'Rasgulla', 'Rasmalai', 'Gajar Halwa', 'Rabdi', 'Moong Dal Halwa', 'Chocolate Fantasy', 'Vanilla Fantasy', 'Choice of Ice Creams', 'Raaga Kulfi', 'Midnight Beauty', 'Fruit Salad with Ice Cream', 'Fruit Salad', 'Toffee Banana', 'Fried Icecream']\"\n        ],\n        \"semantic_type\": \"\",\n        \"description\": \"\"\n      }\n    },\n    {\n      \"column\": \"type\",\n      \"properties\": {\n        \"dtype\": \"category\",\n        \"num_unique_values\": 7,\n        \"samples\": [\n          \"Buffet\",\n          \"Cafes\"\n        ],\n        \"semantic_type\": \"\",\n        \"description\": \"\"\n      }\n    },\n    {\n      \"column\": \"city\",\n      \"properties\": {\n        \"dtype\": \"category\",\n        \"num_unique_values\": 30,\n        \"samples\": [\n          \"Residency Road\",\n          \"Kammanahalli\"\n        ],\n        \"semantic_type\": \"\",\n        \"description\": \"\"\n      }\n    }\n  ]\n}",
              "type": "dataframe",
              "variable_name": "zomato"
            },
            "text/html": [
              "\n",
              "  <div id=\"df-8f209f7c-e842-41e6-bcf4-dc31ab9d5a47\" class=\"colab-df-container\">\n",
              "    <div>\n",
              "<style scoped>\n",
              "    .dataframe tbody tr th:only-of-type {\n",
              "        vertical-align: middle;\n",
              "    }\n",
              "\n",
              "    .dataframe tbody tr th {\n",
              "        vertical-align: top;\n",
              "    }\n",
              "\n",
              "    .dataframe thead th {\n",
              "        text-align: right;\n",
              "    }\n",
              "</style>\n",
              "<table border=\"1\" class=\"dataframe\">\n",
              "  <thead>\n",
              "    <tr style=\"text-align: right;\">\n",
              "      <th></th>\n",
              "      <th>address</th>\n",
              "      <th>name</th>\n",
              "      <th>online_order</th>\n",
              "      <th>book_table</th>\n",
              "      <th>rate</th>\n",
              "      <th>votes</th>\n",
              "      <th>location</th>\n",
              "      <th>rest_type</th>\n",
              "      <th>cuisines</th>\n",
              "      <th>cost</th>\n",
              "      <th>reviews_list</th>\n",
              "      <th>menu_item</th>\n",
              "      <th>type</th>\n",
              "      <th>city</th>\n",
              "    </tr>\n",
              "  </thead>\n",
              "  <tbody>\n",
              "    <tr>\n",
              "      <th>0</th>\n",
              "      <td>942, 21st Main Road, 2nd Stage, Banashankari, ...</td>\n",
              "      <td>Jalsa</td>\n",
              "      <td>True</td>\n",
              "      <td>True</td>\n",
              "      <td>4.1</td>\n",
              "      <td>775</td>\n",
              "      <td>Banashankari</td>\n",
              "      <td>Casual Dining</td>\n",
              "      <td>North Indian, Mughlai, Chinese</td>\n",
              "      <td>800.0</td>\n",
              "      <td>[('Rated 4.0', 'RATED\\n  A beautiful place to ...</td>\n",
              "      <td>[]</td>\n",
              "      <td>Buffet</td>\n",
              "      <td>Banashankari</td>\n",
              "    </tr>\n",
              "    <tr>\n",
              "      <th>1</th>\n",
              "      <td>2nd Floor, 80 Feet Road, Near Big Bazaar, 6th ...</td>\n",
              "      <td>Spice Elephant</td>\n",
              "      <td>True</td>\n",
              "      <td>False</td>\n",
              "      <td>4.1</td>\n",
              "      <td>787</td>\n",
              "      <td>Banashankari</td>\n",
              "      <td>Casual Dining</td>\n",
              "      <td>Chinese, North Indian, Thai</td>\n",
              "      <td>800.0</td>\n",
              "      <td>[('Rated 4.0', 'RATED\\n  Had been here for din...</td>\n",
              "      <td>[]</td>\n",
              "      <td>Buffet</td>\n",
              "      <td>Banashankari</td>\n",
              "    </tr>\n",
              "    <tr>\n",
              "      <th>2</th>\n",
              "      <td>1112, Next to KIMS Medical College, 17th Cross...</td>\n",
              "      <td>San Churro Cafe</td>\n",
              "      <td>True</td>\n",
              "      <td>False</td>\n",
              "      <td>3.8</td>\n",
              "      <td>918</td>\n",
              "      <td>Banashankari</td>\n",
              "      <td>Cafe, Casual Dining</td>\n",
              "      <td>Cafe, Mexican, Italian</td>\n",
              "      <td>800.0</td>\n",
              "      <td>[('Rated 3.0', \"RATED\\n  Ambience is not that ...</td>\n",
              "      <td>[]</td>\n",
              "      <td>Buffet</td>\n",
              "      <td>Banashankari</td>\n",
              "    </tr>\n",
              "    <tr>\n",
              "      <th>3</th>\n",
              "      <td>1st Floor, Annakuteera, 3rd Stage, Banashankar...</td>\n",
              "      <td>Addhuri Udupi Bhojana</td>\n",
              "      <td>False</td>\n",
              "      <td>False</td>\n",
              "      <td>3.7</td>\n",
              "      <td>88</td>\n",
              "      <td>Banashankari</td>\n",
              "      <td>Quick Bites</td>\n",
              "      <td>South Indian, North Indian</td>\n",
              "      <td>300.0</td>\n",
              "      <td>[('Rated 4.0', \"RATED\\n  Great food and proper...</td>\n",
              "      <td>[]</td>\n",
              "      <td>Buffet</td>\n",
              "      <td>Banashankari</td>\n",
              "    </tr>\n",
              "    <tr>\n",
              "      <th>4</th>\n",
              "      <td>10, 3rd Floor, Lakshmi Associates, Gandhi Baza...</td>\n",
              "      <td>Grand Village</td>\n",
              "      <td>False</td>\n",
              "      <td>False</td>\n",
              "      <td>3.8</td>\n",
              "      <td>166</td>\n",
              "      <td>Basavanagudi</td>\n",
              "      <td>Casual Dining</td>\n",
              "      <td>North Indian, Rajasthani</td>\n",
              "      <td>600.0</td>\n",
              "      <td>[('Rated 4.0', 'RATED\\n  Very good restaurant ...</td>\n",
              "      <td>[]</td>\n",
              "      <td>Buffet</td>\n",
              "      <td>Banashankari</td>\n",
              "    </tr>\n",
              "  </tbody>\n",
              "</table>\n",
              "</div>\n",
              "    <div class=\"colab-df-buttons\">\n",
              "\n",
              "  <div class=\"colab-df-container\">\n",
              "    <button class=\"colab-df-convert\" onclick=\"convertToInteractive('df-8f209f7c-e842-41e6-bcf4-dc31ab9d5a47')\"\n",
              "            title=\"Convert this dataframe to an interactive table.\"\n",
              "            style=\"display:none;\">\n",
              "\n",
              "  <svg xmlns=\"http://www.w3.org/2000/svg\" height=\"24px\" viewBox=\"0 -960 960 960\">\n",
              "    <path d=\"M120-120v-720h720v720H120Zm60-500h600v-160H180v160Zm220 220h160v-160H400v160Zm0 220h160v-160H400v160ZM180-400h160v-160H180v160Zm440 0h160v-160H620v160ZM180-180h160v-160H180v160Zm440 0h160v-160H620v160Z\"/>\n",
              "  </svg>\n",
              "    </button>\n",
              "\n",
              "  <style>\n",
              "    .colab-df-container {\n",
              "      display:flex;\n",
              "      gap: 12px;\n",
              "    }\n",
              "\n",
              "    .colab-df-convert {\n",
              "      background-color: #E8F0FE;\n",
              "      border: none;\n",
              "      border-radius: 50%;\n",
              "      cursor: pointer;\n",
              "      display: none;\n",
              "      fill: #1967D2;\n",
              "      height: 32px;\n",
              "      padding: 0 0 0 0;\n",
              "      width: 32px;\n",
              "    }\n",
              "\n",
              "    .colab-df-convert:hover {\n",
              "      background-color: #E2EBFA;\n",
              "      box-shadow: 0px 1px 2px rgba(60, 64, 67, 0.3), 0px 1px 3px 1px rgba(60, 64, 67, 0.15);\n",
              "      fill: #174EA6;\n",
              "    }\n",
              "\n",
              "    .colab-df-buttons div {\n",
              "      margin-bottom: 4px;\n",
              "    }\n",
              "\n",
              "    [theme=dark] .colab-df-convert {\n",
              "      background-color: #3B4455;\n",
              "      fill: #D2E3FC;\n",
              "    }\n",
              "\n",
              "    [theme=dark] .colab-df-convert:hover {\n",
              "      background-color: #434B5C;\n",
              "      box-shadow: 0px 1px 3px 1px rgba(0, 0, 0, 0.15);\n",
              "      filter: drop-shadow(0px 1px 2px rgba(0, 0, 0, 0.3));\n",
              "      fill: #FFFFFF;\n",
              "    }\n",
              "  </style>\n",
              "\n",
              "    <script>\n",
              "      const buttonEl =\n",
              "        document.querySelector('#df-8f209f7c-e842-41e6-bcf4-dc31ab9d5a47 button.colab-df-convert');\n",
              "      buttonEl.style.display =\n",
              "        google.colab.kernel.accessAllowed ? 'block' : 'none';\n",
              "\n",
              "      async function convertToInteractive(key) {\n",
              "        const element = document.querySelector('#df-8f209f7c-e842-41e6-bcf4-dc31ab9d5a47');\n",
              "        const dataTable =\n",
              "          await google.colab.kernel.invokeFunction('convertToInteractive',\n",
              "                                                    [key], {});\n",
              "        if (!dataTable) return;\n",
              "\n",
              "        const docLinkHtml = 'Like what you see? Visit the ' +\n",
              "          '<a target=\"_blank\" href=https://colab.research.google.com/notebooks/data_table.ipynb>data table notebook</a>'\n",
              "          + ' to learn more about interactive tables.';\n",
              "        element.innerHTML = '';\n",
              "        dataTable['output_type'] = 'display_data';\n",
              "        await google.colab.output.renderOutput(dataTable, element);\n",
              "        const docLink = document.createElement('div');\n",
              "        docLink.innerHTML = docLinkHtml;\n",
              "        element.appendChild(docLink);\n",
              "      }\n",
              "    </script>\n",
              "  </div>\n",
              "\n",
              "\n",
              "<div id=\"df-5c19c8ff-a638-45cc-bb06-fe2678957070\">\n",
              "  <button class=\"colab-df-quickchart\" onclick=\"quickchart('df-5c19c8ff-a638-45cc-bb06-fe2678957070')\"\n",
              "            title=\"Suggest charts\"\n",
              "            style=\"display:none;\">\n",
              "\n",
              "<svg xmlns=\"http://www.w3.org/2000/svg\" height=\"24px\"viewBox=\"0 0 24 24\"\n",
              "     width=\"24px\">\n",
              "    <g>\n",
              "        <path d=\"M19 3H5c-1.1 0-2 .9-2 2v14c0 1.1.9 2 2 2h14c1.1 0 2-.9 2-2V5c0-1.1-.9-2-2-2zM9 17H7v-7h2v7zm4 0h-2V7h2v10zm4 0h-2v-4h2v4z\"/>\n",
              "    </g>\n",
              "</svg>\n",
              "  </button>\n",
              "\n",
              "<style>\n",
              "  .colab-df-quickchart {\n",
              "      --bg-color: #E8F0FE;\n",
              "      --fill-color: #1967D2;\n",
              "      --hover-bg-color: #E2EBFA;\n",
              "      --hover-fill-color: #174EA6;\n",
              "      --disabled-fill-color: #AAA;\n",
              "      --disabled-bg-color: #DDD;\n",
              "  }\n",
              "\n",
              "  [theme=dark] .colab-df-quickchart {\n",
              "      --bg-color: #3B4455;\n",
              "      --fill-color: #D2E3FC;\n",
              "      --hover-bg-color: #434B5C;\n",
              "      --hover-fill-color: #FFFFFF;\n",
              "      --disabled-bg-color: #3B4455;\n",
              "      --disabled-fill-color: #666;\n",
              "  }\n",
              "\n",
              "  .colab-df-quickchart {\n",
              "    background-color: var(--bg-color);\n",
              "    border: none;\n",
              "    border-radius: 50%;\n",
              "    cursor: pointer;\n",
              "    display: none;\n",
              "    fill: var(--fill-color);\n",
              "    height: 32px;\n",
              "    padding: 0;\n",
              "    width: 32px;\n",
              "  }\n",
              "\n",
              "  .colab-df-quickchart:hover {\n",
              "    background-color: var(--hover-bg-color);\n",
              "    box-shadow: 0 1px 2px rgba(60, 64, 67, 0.3), 0 1px 3px 1px rgba(60, 64, 67, 0.15);\n",
              "    fill: var(--button-hover-fill-color);\n",
              "  }\n",
              "\n",
              "  .colab-df-quickchart-complete:disabled,\n",
              "  .colab-df-quickchart-complete:disabled:hover {\n",
              "    background-color: var(--disabled-bg-color);\n",
              "    fill: var(--disabled-fill-color);\n",
              "    box-shadow: none;\n",
              "  }\n",
              "\n",
              "  .colab-df-spinner {\n",
              "    border: 2px solid var(--fill-color);\n",
              "    border-color: transparent;\n",
              "    border-bottom-color: var(--fill-color);\n",
              "    animation:\n",
              "      spin 1s steps(1) infinite;\n",
              "  }\n",
              "\n",
              "  @keyframes spin {\n",
              "    0% {\n",
              "      border-color: transparent;\n",
              "      border-bottom-color: var(--fill-color);\n",
              "      border-left-color: var(--fill-color);\n",
              "    }\n",
              "    20% {\n",
              "      border-color: transparent;\n",
              "      border-left-color: var(--fill-color);\n",
              "      border-top-color: var(--fill-color);\n",
              "    }\n",
              "    30% {\n",
              "      border-color: transparent;\n",
              "      border-left-color: var(--fill-color);\n",
              "      border-top-color: var(--fill-color);\n",
              "      border-right-color: var(--fill-color);\n",
              "    }\n",
              "    40% {\n",
              "      border-color: transparent;\n",
              "      border-right-color: var(--fill-color);\n",
              "      border-top-color: var(--fill-color);\n",
              "    }\n",
              "    60% {\n",
              "      border-color: transparent;\n",
              "      border-right-color: var(--fill-color);\n",
              "    }\n",
              "    80% {\n",
              "      border-color: transparent;\n",
              "      border-right-color: var(--fill-color);\n",
              "      border-bottom-color: var(--fill-color);\n",
              "    }\n",
              "    90% {\n",
              "      border-color: transparent;\n",
              "      border-bottom-color: var(--fill-color);\n",
              "    }\n",
              "  }\n",
              "</style>\n",
              "\n",
              "  <script>\n",
              "    async function quickchart(key) {\n",
              "      const quickchartButtonEl =\n",
              "        document.querySelector('#' + key + ' button');\n",
              "      quickchartButtonEl.disabled = true;  // To prevent multiple clicks.\n",
              "      quickchartButtonEl.classList.add('colab-df-spinner');\n",
              "      try {\n",
              "        const charts = await google.colab.kernel.invokeFunction(\n",
              "            'suggestCharts', [key], {});\n",
              "      } catch (error) {\n",
              "        console.error('Error during call to suggestCharts:', error);\n",
              "      }\n",
              "      quickchartButtonEl.classList.remove('colab-df-spinner');\n",
              "      quickchartButtonEl.classList.add('colab-df-quickchart-complete');\n",
              "    }\n",
              "    (() => {\n",
              "      let quickchartButtonEl =\n",
              "        document.querySelector('#df-5c19c8ff-a638-45cc-bb06-fe2678957070 button');\n",
              "      quickchartButtonEl.style.display =\n",
              "        google.colab.kernel.accessAllowed ? 'block' : 'none';\n",
              "    })();\n",
              "  </script>\n",
              "</div>\n",
              "\n",
              "    </div>\n",
              "  </div>\n"
            ],
            "text/plain": [
              "                                             address                   name  \\\n",
              "0  942, 21st Main Road, 2nd Stage, Banashankari, ...                  Jalsa   \n",
              "1  2nd Floor, 80 Feet Road, Near Big Bazaar, 6th ...         Spice Elephant   \n",
              "2  1112, Next to KIMS Medical College, 17th Cross...        San Churro Cafe   \n",
              "3  1st Floor, Annakuteera, 3rd Stage, Banashankar...  Addhuri Udupi Bhojana   \n",
              "4  10, 3rd Floor, Lakshmi Associates, Gandhi Baza...          Grand Village   \n",
              "\n",
              "   online_order  book_table  rate  votes      location            rest_type  \\\n",
              "0          True        True   4.1    775  Banashankari        Casual Dining   \n",
              "1          True       False   4.1    787  Banashankari        Casual Dining   \n",
              "2          True       False   3.8    918  Banashankari  Cafe, Casual Dining   \n",
              "3         False       False   3.7     88  Banashankari          Quick Bites   \n",
              "4         False       False   3.8    166  Basavanagudi        Casual Dining   \n",
              "\n",
              "                         cuisines   cost  \\\n",
              "0  North Indian, Mughlai, Chinese  800.0   \n",
              "1     Chinese, North Indian, Thai  800.0   \n",
              "2          Cafe, Mexican, Italian  800.0   \n",
              "3      South Indian, North Indian  300.0   \n",
              "4        North Indian, Rajasthani  600.0   \n",
              "\n",
              "                                        reviews_list menu_item    type  \\\n",
              "0  [('Rated 4.0', 'RATED\\n  A beautiful place to ...        []  Buffet   \n",
              "1  [('Rated 4.0', 'RATED\\n  Had been here for din...        []  Buffet   \n",
              "2  [('Rated 3.0', \"RATED\\n  Ambience is not that ...        []  Buffet   \n",
              "3  [('Rated 4.0', \"RATED\\n  Great food and proper...        []  Buffet   \n",
              "4  [('Rated 4.0', 'RATED\\n  Very good restaurant ...        []  Buffet   \n",
              "\n",
              "           city  \n",
              "0  Banashankari  \n",
              "1  Banashankari  \n",
              "2  Banashankari  \n",
              "3  Banashankari  \n",
              "4  Banashankari  "
            ]
          },
          "execution_count": 14,
          "metadata": {},
          "output_type": "execute_result"
        }
      ],
      "source": [
        "zomato.head()"
      ]
    },
    {
      "cell_type": "code",
      "execution_count": null,
      "metadata": {
        "id": "h01F1yhmE7N2"
      },
      "outputs": [],
      "source": [
        "## Computing Mean Rating\n",
        "restaurants = list(zomato['name'].unique())\n",
        "zomato['Mean Rating'] = 0\n",
        "\n",
        "for i in range(len(restaurants)):\n",
        "    zomato['Mean Rating'][zomato['name'] == restaurants[i]] = zomato['rate'][zomato['name'] == restaurants[i]].mean()"
      ]
    },
    {
      "cell_type": "code",
      "execution_count": null,
      "metadata": {
        "id": "hXGign5OE-48"
      },
      "outputs": [],
      "source": [
        "zomato.head()"
      ]
    },
    {
      "cell_type": "code",
      "execution_count": null,
      "metadata": {
        "id": "kK9jTueWFP2c"
      },
      "outputs": [],
      "source": [
        "from sklearn.preprocessing import MinMaxScaler\n",
        "\n",
        "scaler = MinMaxScaler(feature_range = (1,5))\n",
        "\n",
        "zomato[['Mean Rating']] = scaler.fit_transform(zomato[['Mean Rating']]).round(2)\n",
        "\n",
        "zomato.sample(3)"
      ]
    },
    {
      "cell_type": "code",
      "execution_count": null,
      "metadata": {
        "id": "0eICVurfFVEx"
      },
      "outputs": [],
      "source": [
        "# 5 examples of these columns before text processing:\n",
        "zomato[['reviews_list', 'cuisines']].sample(5)"
      ]
    },
    {
      "cell_type": "code",
      "execution_count": null,
      "metadata": {
        "id": "yCupLtMxFddY"
      },
      "outputs": [],
      "source": [
        "## Lower Casing\n",
        "zomato[\"reviews_list\"] = zomato[\"reviews_list\"].str.lower()\n",
        "zomato[['reviews_list', 'cuisines']].sample(5)"
      ]
    },
    {
      "cell_type": "code",
      "execution_count": null,
      "metadata": {
        "colab": {
          "background_save": true
        },
        "id": "p4n5wSwbFihK",
        "outputId": "3278b797-8a9f-43c1-ae2e-d432879e806e"
      },
      "outputs": [
        {
          "data": {
            "application/vnd.google.colaboratory.intrinsic+json": {
              "summary": "{\n  \"name\": \"zomato[['reviews_list', 'cuisines']]\",\n  \"rows\": 5,\n  \"fields\": [\n    {\n      \"column\": \"reviews_list\",\n      \"properties\": {\n        \"dtype\": \"string\",\n        \"num_unique_values\": 5,\n        \"samples\": [\n          \"rated 30 ratedn  i tried out a lot of dishes here but i was disappointed to find that nothing was quite upto the mark the butter chicken did not taste like butter chicken the chicken dumplings were tasteless the chicken nuggets were too oily the cheese cigars had a weird taste and the crispy lamb was not crispy at all the gulab jamun cheesecake did not have the texture of a cheesecake the blueberry pie was slightly hard and the chocolate truffle cake could have been much better the ambience is posh and well maintained the food presentation is pretty good but with the long waiting time we had to wait for 45 minutes to get out food and subpar food quality i wouldnt recommend this place to anyone rated 40 ratedn  nice ambience good variety of food and service was excellent it is in the 4th floor of davanam sarovar suitennambience  45nfood  45nservice  45 rated 40 ratedn  good ambience helpful staffs tasty food with a bit high pricing overall its a nice place which you can try for the delicious paneer and chicken main course\\u00e3\\u0083x83\\u00e3\\u0082x83\\u00e3\\u0083x82\\u00e3\\u0082x83\\u00e3\\u0083x83\\u00e3\\u0082x82\\u00e3\\u0083x82\\u00e3\\u0082\\u00e2\\u00b0\\u00e3\\u0083x83\\u00e3\\u0082x83\\u00e3\\u0083x82\\u00e3\\u0082x82\\u00e3\\u0083x83\\u00e3\\u0082x82\\u00e3\\u0083x82\\u00e3\\u0082x9f\\u00e3\\u0083x83\\u00e3\\u0082x83\\u00e3\\u0083x82\\u00e3\\u0082x82\\u00e3\\u0083x83\\u00e3\\u0082x82\\u00e3\\u0083x82\\u00e3\\u0082x98\\u00e3\\u0083x83\\u00e3\\u0082x83\\u00e3\\u0083x82\\u00e3\\u0082x82\\u00e3\\u0083x83\\u00e3\\u0082x82\\u00e3\\u0083x82\\u00e3\\u0082x8d\\u00e3\\u0083x83\\u00e3\\u0082x83\\u00e3\\u0083x82\\u00e3\\u0082x83\\u00e3\\u0083x83\\u00e3\\u0082x82\\u00e3\\u0083x82\\u00e3\\u0082\\u00e2\\u00b0\\u00e3\\u0083x83\\u00e3\\u0082x83\\u00e3\\u0083x82\\u00e3\\u0082x82\\u00e3\\u0083x83\\u00e3\\u0082x82\\u00e3\\u0083x82\\u00e3\\u0082x9f\\u00e3\\u0083x83\\u00e3\\u0082x83\\u00e3\\u0083x82\\u00e3\\u0082x82\\u00e3\\u0083x83\\u00e3\\u0082x82\\u00e3\\u0083x82\\u00e3\\u0082x98\\u00e3\\u0083x83\\u00e3\\u0082x83\\u00e3\\u0083x82\\u00e3\\u0082x82\\u00e3\\u0083x83\\u00e3\\u0082x82\\u00e3\\u0083x82\\u00e3\\u0082x8b rated 10 ratedn  we went here at 5am on sunday morning todayni took a make your own sanwich brown bread tomato cucumber with lettucenand a vegetarian ceaser salad it was in zomato gold offernnthere were french fries served as sides with the sandwich the fries werent crispy and one piece was entirely uncookednin the caesar salad i found an aluminum foil piecenncustomer service wasnt good at all after all the errors by the restaurant not a single statement or expression of an apology givenni felt disgusted rated 20 ratedn  this review is for the buffet this is the worst buffet menu i have ever been to no starters yes you heard it right no starters at allnsalads  assorted  blant and dry 05nsoup  the only good thing in the menu 55nstarters  nanmain course  being a star rated hotel i did not expect this chicken was hard fish was okish i would rate it 25 this rating is just for the paneer mutter and jeera rice which was goodndesserts  25nservice and ambience  35nnin my opinion you should not visit this place for a buffet rated 50 ratedn  my two days visit to bengaluru my friend suggested me this place since my toddler so wanted typical north indian food overall nice experience food was good buffet is worth it what made my experience outstanding was amongst few things my toddler couldnt eat coz it was not like the way he likes you know how lill ones can be but chef kapil specially came out for my lill one to cater to his needs so happy toddler makes happy mommmy so 5 star for this place surely will come here againnnfoodlifeandspicecom\",\n          \"rated 40 ratedn  this is a nice hangout place near cmrit college good food they also have sportsnfood55 loved the pasta and the sandwichesnambience 455nthe place is a little congested but they have lit it up nicely which makes feel positive loved the overall experience rated 50 ratedn  popped to this place on a wednesday evening with least expectations and gosh were we up for a joy the mayo did the tricks in the fries and the burgers and the kitkat shake was a mouthful definitely a must visit place and the prices are economical as well rated 30 ratedn  had ordered from this place as i had already heard about their burger i ordered a chicken burger and a waffle the burger was great and had good crispy patty the waffle was crispy and hot too overall a good meal rated 40 ratedn  cute little burger place around the corner newly opened near cmrit college this place has super reasonable price menu and courteous staff would suggest you to try their unicorn shake rated 50 ratedn  loved this placenambience was very pleasingnservice was quick and staff was very polite to usnthey have a special 20 discount during morning 11 am till evening 6 pm  wow nmust try the variety of dishes and hot drinks available herenwould definitely visit this place again rated 40 ratedn  one of the good cafe in the kundanahalli it is near cmrit the cappucino is good we tried pizza pasta and fries ambience is goodnambience 45nfood 45nservice 45 rated 20 ratedn  ambiance is good considering the area but food is not good we had ordered salt n pepper chicken and chicken pizza first of all they didnt give any plate then pizza had ready made base which tasted stale the wooden pizza serving plate was smelling bad as well rated 20 ratedn  visited this place with great expectations after reading so many positive reviews on zomato but i was highly disappointednfood i dont want to sound rude but this was the most poorly cooked pizza which i had ever eaten in bangalore the base was not properly made the seasoning was not good in taste  it tasted as if eating raw bread topped with shallow fried chicken and raw pineapplesnchicken chilly looked appetising but the chicken was very rubbery i doubt the freshness of chicken used by them still better than the pizzanzaffrani tea was exactly same as normal tea no difference in tastenambience is good decor is well suited for cool n casual hangout placenservice was good staff are polite rated 40 ratedn  located in busy aecs so parking a little difficult to find but easy to locate restaurant we ordered the jumbo shawarma plate which was truly jumbo and wow what taste it actually tasted so good we ordered another one and we were filled to the brim ordered the chicken zinger burger for my kid and my kid liked it just to finish the meal we ordered the death by chocolate sundae awesome meal and it cost us under rs 600 we left with a filled stomach and a heavy wallet awesome experience rated 50 ratedn  what an awesome place in brookfield i usually goes out here and it never gets bored the food is great ambience is good and so the service rated 30 ratedn  your friendly neighbourhood place with decent starters the waffles might not be as soft as your expect but yummy the thick shakes here are a must try rated 40 ratedn  we want to to this place one sunday evening  the ambiance was good with nice lighting and comfortable seating we ordered a alfredo veg pasta red sauce chicken pasta  paneer sizzler kita kat shake grilled chicken burger tandoori chicken pizzannmust try grilled chicken burger  the chicken patty was so succulent tender and fresh and its not the frozen patty grilled properly i recommend everyone to try thisnnpasta both the white sauce and red sauce pastas were good and i loved the white sauce over the red saucenndisappointments kitkat shake is the most dissappointing  as it was not even a kitaoat shake tasted like a bournvita shake  secondly the pizza it was a readymade pizza base with note even proper pizza cheese and it was not that hot and barely had saucennworth 355ntaste 35nambiance 45 rated 40 ratedn  we had an yummy dinner hereall food served here are so tastywe had their chicken shawarma plate chicken burger and chicken tikka wrapall are yummy rated 30 ratedn nfood is okay nothing special to tell kitkat shake is good rest paneer sandwich and chilly potato was not at all tasty chowmein is good falafel burger taste very blant plz dnt try rated 40 ratedn  ambience 455nservice  45nfood  45nn cosy placen hygiene maintainedn alcohol not servedn great for a quick grabn good place to hangout with friends and familyn fresh juice availablen people at service are kind and politen pocket friendlynnthumbs up to the team  good jobna must visit  rated 30 ratedn  i like the lighting of this placenot so dim and not so brightits a new place opened on cmrit lanenservice  355nvalue for money 45nambience 45ndesserts 45 rated 40 ratedn  visited mugs n burger with my family for dinner they have variety of foodnnfood taste is good specially sizzler item with rice soups are good found talumin soup after a long time had burgers and noodles burgers are good but noodles needs to have more tastennthey served us a complimentary chilly paneer it was really goodnnnice ambience courteous staff decent pricing seating for couple tables require some more spacennoverall good experience rated 30 ratedn  this is a very new place in the layout has a menu with lot of choices like pizza burger and indian and chinese food together tatsted the chicken clear soup which was not even warm but tasted ok the chicken wings were ok chicken peri peri burger was fine but the patty size was very thin almost the size of a layer of cheese usually in burgers the patty size would be a little bigger the service guys are not well informed when asked about the peri peri they told it would be spicy which was not at all and for any other query we had they had to run across to the kitchen and then we had shawarma which was good as its a new place i understand the haste and will give it a try again rated 30 ratedn  went for a weeknight dinner decent place to visit for a small dinner the portion sizes are smaller than usualwe ordered cheese pizza veg hot n sour soup  chicken shawarma plate and red velvet waffle the soup was very tasty and served hot pizza was too small but had good quantity of cheese shawarma had a good portion and my husband was full by it waffle felt a little dry and hard but overall was goodncheersnplace accepts cash and card no qualms of seating as of now rated 40 ratedn  ambience 455nfood  45nservice  55ncost  a little above budgetnnthe french fries were crisp but soft liked it never had zaffran tea before they told it is a different masala they put in it loved the tea in 15rs i will probably be coming every weekend to have itnveg burger was different i didnt love it but didnt dislike it also it was different taste from usual burgernthe lighting is perfect to take photos\",\n          \"rated 50 ratedn  \\u00e3\\u0083x83\\u00e3\\u0082x83\\u00e3\\u0083x82\\u00e3\\u0082x83\\u00e3\\u0083x83\\u00e3\\u0082x82\\u00e3\\u0083x82\\u00e3\\u0082\\u00e2\\u00a2\\u00e3\\u0083x83\\u00e3\\u0082x83\\u00e3\\u0083x82\\u00e3\\u0082x82\\u00e3\\u0083x83\\u00e3\\u0082x82\\u00e3\\u0083x82\\u00e3\\u0082x9d\\u00e3\\u0083x83\\u00e3\\u0082x83\\u00e3\\u0083x82\\u00e3\\u0082x82\\u00e3\\u0083x83\\u00e3\\u0082x82\\u00e3\\u0083x82\\u00e3\\u0082\\u00e2\\u00a4\\u00e3\\u0083x83\\u00e3\\u0082x83\\u00e3\\u0083x82\\u00e3\\u0082x83\\u00e3\\u0083x83\\u00e3\\u0082x82\\u00e3\\u0083x82\\u00e3\\u0082\\u00e2\\u00af\\u00e3\\u0083x83\\u00e3\\u0082x83\\u00e3\\u0083x82\\u00e3\\u0082x82\\u00e3\\u0083x83\\u00e3\\u0082x82\\u00e3\\u0083x82\\u00e3\\u0082\\u00e2\\u00b8\\u00e3\\u0083x83\\u00e3\\u0082x83\\u00e3\\u0083x82\\u00e3\\u0082x82\\u00e3\\u0083x83\\u00e3\\u0082x82\\u00e3\\u0083x82\\u00e3\\u0082x8f\\u00e3\\u0083x83\\u00e3\\u0082x83\\u00e3\\u0083x82\\u00e3\\u0082x83\\u00e3\\u0083x83\\u00e3\\u0082x82\\u00e3\\u0083x82\\u00e3\\u0082\\u00e2\\u00a2\\u00e3\\u0083x83\\u00e3\\u0082x83\\u00e3\\u0083x82\\u00e3\\u0082x82\\u00e3\\u0083x83\\u00e3\\u0082x82\\u00e3\\u0083x82\\u00e3\\u0082x9d\\u00e3\\u0083x83\\u00e3\\u0082x83\\u00e3\\u0083x82\\u00e3\\u0082x82\\u00e3\\u0083x83\\u00e3\\u0082x82\\u00e3\\u0083x82\\u00e3\\u0082\\u00e2\\u00a4\\u00e3\\u0083x83\\u00e3\\u0082x83\\u00e3\\u0083x82\\u00e3\\u0082x83\\u00e3\\u0083x83\\u00e3\\u0082x82\\u00e3\\u0083x82\\u00e3\\u0082\\u00e2\\u00af\\u00e3\\u0083x83\\u00e3\\u0082x83\\u00e3\\u0083x82\\u00e3\\u0082x82\\u00e3\\u0083x83\\u00e3\\u0082x82\\u00e3\\u0083x82\\u00e3\\u0082\\u00e2\\u00b8\\u00e3\\u0083x83\\u00e3\\u0082x83\\u00e3\\u0083x82\\u00e3\\u0082x82\\u00e3\\u0083x83\\u00e3\\u0082x82\\u00e3\\u0083x82\\u00e3\\u0082x8f\\u00e3\\u0083x83\\u00e3\\u0082x83\\u00e3\\u0083x82\\u00e3\\u0082x83\\u00e3\\u0083x83\\u00e3\\u0082x82\\u00e3\\u0083x82\\u00e3\\u0082\\u00e2\\u00a2\\u00e3\\u0083x83\\u00e3\\u0082x83\\u00e3\\u0083x82\\u00e3\\u0082x82\\u00e3\\u0083x83\\u00e3\\u0082x82\\u00e3\\u0083x82\\u00e3\\u0082x9d\\u00e3\\u0083x83\\u00e3\\u0082x83\\u00e3\\u0083x82\\u00e3\\u0082x82\\u00e3\\u0083x83\\u00e3\\u0082x82\\u00e3\\u0083x82\\u00e3\\u0082\\u00e2\\u00a4\\u00e3\\u0083x83\\u00e3\\u0082x83\\u00e3\\u0083x82\\u00e3\\u0082x83\\u00e3\\u0083x83\\u00e3\\u0082x82\\u00e3\\u0083x82\\u00e3\\u0082\\u00e2\\u00af\\u00e3\\u0083x83\\u00e3\\u0082x83\\u00e3\\u0083x82\\u00e3\\u0082x82\\u00e3\\u0083x83\\u00e3\\u0082x82\\u00e3\\u0083x82\\u00e3\\u0082\\u00e2\\u00b8\\u00e3\\u0083x83\\u00e3\\u0082x83\\u00e3\\u0083x82\\u00e3\\u0082x82\\u00e3\\u0083x83\\u00e3\\u0082x82\\u00e3\\u0083x82\\u00e3\\u0082x8f\\u00e3\\u0083x83\\u00e3\\u0082x83\\u00e3\\u0083x82\\u00e3\\u0082x83\\u00e3\\u0083x83\\u00e3\\u0082x82\\u00e3\\u0083x82\\u00e3\\u0082\\u00e2\\u00a2\\u00e3\\u0083x83\\u00e3\\u0082x83\\u00e3\\u0083x82\\u00e3\\u0082x82\\u00e3\\u0083x83\\u00e3\\u0082x82\\u00e3\\u0083x82\\u00e3\\u0082x9d\\u00e3\\u0083x83\\u00e3\\u0082x83\\u00e3\\u0083x82\\u00e3\\u0082x82\\u00e3\\u0083x83\\u00e3\\u0082x82\\u00e3\\u0083x82\\u00e3\\u0082\\u00e2\\u00a4\\u00e3\\u0083x83\\u00e3\\u0082x83\\u00e3\\u0083x82\\u00e3\\u0082x83\\u00e3\\u0083x83\\u00e3\\u0082x82\\u00e3\\u0083x82\\u00e3\\u0082\\u00e2\\u00af\\u00e3\\u0083x83\\u00e3\\u0082x83\\u00e3\\u0083x82\\u00e3\\u0082x82\\u00e3\\u0083x83\\u00e3\\u0082x82\\u00e3\\u0083x82\\u00e3\\u0082\\u00e2\\u00b8\\u00e3\\u0083x83\\u00e3\\u0082x83\\u00e3\\u0083x82\\u00e3\\u0082x82\\u00e3\\u0083x83\\u00e3\\u0082x82\\u00e3\\u0083x82\\u00e3\\u0082x8f\\u00e3\\u0083x83\\u00e3\\u0082x83\\u00e3\\u0083x82\\u00e3\\u0082x83\\u00e3\\u0083x83\\u00e3\\u0082x82\\u00e3\\u0083x82\\u00e3\\u0082\\u00e2\\u00a2\\u00e3\\u0083x83\\u00e3\\u0082x83\\u00e3\\u0083x82\\u00e3\\u0082x82\\u00e3\\u0083x83\\u00e3\\u0082x82\\u00e3\\u0083x82\\u00e3\\u0082x9d\\u00e3\\u0083x83\\u00e3\\u0082x83\\u00e3\\u0083x82\\u00e3\\u0082x82\\u00e3\\u0083x83\\u00e3\\u0082x82\\u00e3\\u0083x82\\u00e3\\u0082\\u00e2\\u00a4\\u00e3\\u0083x83\\u00e3\\u0082x83\\u00e3\\u0083x82\\u00e3\\u0082x83\\u00e3\\u0083x83\\u00e3\\u0082x82\\u00e3\\u0083x82\\u00e3\\u0082\\u00e2\\u00af\\u00e3\\u0083x83\\u00e3\\u0082x83\\u00e3\\u0083x82\\u00e3\\u0082x82\\u00e3\\u0083x83\\u00e3\\u0082x82\\u00e3\\u0083x82\\u00e3\\u0082\\u00e2\\u00b8\\u00e3\\u0083x83\\u00e3\\u0082x83\\u00e3\\u0083x82\\u00e3\\u0082x82\\u00e3\\u0083x83\\u00e3\\u0082x82\\u00e3\\u0083x82\\u00e3\\u0082x8fnin love with ice creammm herendifferent varietiesnfinger licking menunany will love the ice creams herenworth the tastenworth trying the ice creams atleast once rated 40 ratedn  subtle is the wordnabsolutely loved the ice cream the taste was heavenly just couldnt get enough of it although the prices can definitely burn a hole in your pocket you should definitely try it out for the overall experiencenabsolutely splendidnnoverall ratingnfood  55nservice  45nambience  35 rated 50 ratedn  it was like a bucket list for me to visit this place in search of d european fondue n yess i made it luxury eating  feeling lots of new experience  flavourful rated 30 ratedn  we had double scoop tiramisu it was good but not really mindblowing for the price they charge staff was courteous  variety of flavours is okay but price is an overkill rated 10 ratedn  very bad servicethe staff was very rude and pretty ignorant toothe red velvet cake i ordered was stale and smelt bad but the staff told me that\\u00e3\\u0083x83\\u00e3\\u0082x83\\u00e3\\u0083x82\\u00e3\\u0082x83\\u00e3\\u0083x83\\u00e3\\u0082x82\\u00e3\\u0083x82\\u00e3\\u0082\\u00e2\\u00a2\\u00e3\\u0083x83\\u00e3\\u0082x83\\u00e3\\u0083x82\\u00e3\\u0082x82\\u00e3\\u0083x83\\u00e3\\u0082x82\\u00e3\\u0083x82\\u00e3\\u0082x80\\u00e3\\u0083x83\\u00e3\\u0082x83\\u00e3\\u0083x82\\u00e3\\u0082x82\\u00e3\\u0083x83\\u00e3\\u0082x82\\u00e3\\u0083x82\\u00e3\\u0082x99s how a red velvet cake is supposed to be  rated 30 ratedn  located on the ground floor not far from the main entrance of phoenix marketcity this parlor has an open seating space given the brand name the sundaes here are super expensive which doesn\\u00e3\\u0083x83\\u00e3\\u0082x83\\u00e3\\u0083x82\\u00e3\\u0082x83\\u00e3\\u0083x83\\u00e3\\u0082x82\\u00e3\\u0083x82\\u00e3\\u0082\\u00e2\\u00a2\\u00e3\\u0083x83\\u00e3\\u0082x83\\u00e3\\u0083x82\\u00e3\\u0082x82\\u00e3\\u0083x83\\u00e3\\u0082x82\\u00e3\\u0083x82\\u00e3\\u0082x80\\u00e3\\u0083x83\\u00e3\\u0082x83\\u00e3\\u0083x82\\u00e3\\u0082x82\\u00e3\\u0083x83\\u00e3\\u0082x82\\u00e3\\u0083x82\\u00e3\\u0082x99t feel worth the money we tried lone rangers under two different flavors of icecream cookies and cream and strawberry cheesecake both were good but nothing awesome about it also the portion size is small i had ordered strawberry cheesecake but the waiter instead got me summer berries icecream after telling him he changed the scoop from my glass which was sprinkled with some crushed pieces of wafer and raspberry sauce overall i don\\u00e3\\u0083x83\\u00e3\\u0082x83\\u00e3\\u0083x82\\u00e3\\u0082x83\\u00e3\\u0083x83\\u00e3\\u0082x82\\u00e3\\u0083x82\\u00e3\\u0082\\u00e2\\u00a2\\u00e3\\u0083x83\\u00e3\\u0082x83\\u00e3\\u0083x82\\u00e3\\u0082x82\\u00e3\\u0083x83\\u00e3\\u0082x82\\u00e3\\u0083x82\\u00e3\\u0082x80\\u00e3\\u0083x83\\u00e3\\u0082x83\\u00e3\\u0083x82\\u00e3\\u0082x82\\u00e3\\u0083x83\\u00e3\\u0082x82\\u00e3\\u0083x82\\u00e3\\u0082x99t think its worth it rated 50 ratedn  the place is located just in the front of the entrance of the mall and we had sundae one with a scoop of blueberry ice cream and another with peach ice cream they both tastes heavenly you and enjoy your ice cream and chill around happy eating \\u00e3\\u0083x83\\u00e3\\u0082x83\\u00e3\\u0083x82\\u00e3\\u0082x83\\u00e3\\u0083x83\\u00e3\\u0082x82\\u00e3\\u0083x82\\u00e3\\u0082\\u00e2\\u00a2\\u00e3\\u0083x83\\u00e3\\u0082x83\\u00e3\\u0083x82\\u00e3\\u0082x82\\u00e3\\u0083x83\\u00e3\\u0082x82\\u00e3\\u0083x82\\u00e3\\u0082x98\\u00e3\\u0083x83\\u00e3\\u0082x83\\u00e3\\u0083x82\\u00e3\\u0082x82\\u00e3\\u0083x83\\u00e3\\u0082x82\\u00e3\\u0083x82\\u00e3\\u0082\\u00e2\\u00ba\\u00e3\\u0083x83\\u00e3\\u0082x83\\u00e3\\u0083x82\\u00e3\\u0082x83\\u00e3\\u0083x83\\u00e3\\u0082x82\\u00e3\\u0083x82\\u00e3\\u0082\\u00e2\\u00af\\u00e3\\u0083x83\\u00e3\\u0082x83\\u00e3\\u0083x82\\u00e3\\u0082x82\\u00e3\\u0083x83\\u00e3\\u0082x82\\u00e3\\u0083x82\\u00e3\\u0082\\u00e2\\u00b8\\u00e3\\u0083x83\\u00e3\\u0082x83\\u00e3\\u0083x82\\u00e3\\u0082x82\\u00e3\\u0083x83\\u00e3\\u0082x82\\u00e3\\u0083x82\\u00e3\\u0082x8f rated 10 ratedn  really didnt like the ice cream we orderednwe ordered effiel tower as it was looking interesting \\u00e3\\u0083x83\\u00e3\\u0082x83\\u00e3\\u0083x82\\u00e3\\u0082x83\\u00e3\\u0083x83\\u00e3\\u0082x82\\u00e3\\u0083x82\\u00e3\\u0082\\u00e2\\u00b0\\u00e3\\u0083x83\\u00e3\\u0082x83\\u00e3\\u0083x82\\u00e3\\u0082x82\\u00e3\\u0083x83\\u00e3\\u0082x82\\u00e3\\u0083x82\\u00e3\\u0082x9f\\u00e3\\u0083x83\\u00e3\\u0082x83\\u00e3\\u0083x82\\u00e3\\u0082x82\\u00e3\\u0083x83\\u00e3\\u0082x82\\u00e3\\u0083x82\\u00e3\\u0082x98\\u00e3\\u0083x83\\u00e3\\u0082x83\\u00e3\\u0083x82\\u00e3\\u0082x82\\u00e3\\u0083x83\\u00e3\\u0082x82\\u00e3\\u0083x82\\u00e3\\u0082x8bnnbut really disappointed with taste\\u00e3\\u0083x83\\u00e3\\u0082x83\\u00e3\\u0083x82\\u00e3\\u0082x83\\u00e3\\u0083x83\\u00e3\\u0082x82\\u00e3\\u0083x82\\u00e3\\u0082\\u00e2\\u00b0\\u00e3\\u0083x83\\u00e3\\u0082x83\\u00e3\\u0083x82\\u00e3\\u0082x82\\u00e3\\u0083x83\\u00e3\\u0082x82\\u00e3\\u0083x82\\u00e3\\u0082x9f\\u00e3\\u0083x83\\u00e3\\u0082x83\\u00e3\\u0083x82\\u00e3\\u0082x82\\u00e3\\u0083x83\\u00e3\\u0082x82\\u00e3\\u0083x82\\u00e3\\u0082\\u00e2\\u00a4\\u00e3\\u0083x83\\u00e3\\u0082x83\\u00e3\\u0083x82\\u00e3\\u0082x82\\u00e3\\u0083x83\\u00e3\\u0082x82\\u00e3\\u0083x82\\u00e3\\u0082x90nfudge was not fresh and so hard and even i cant compare the taste of icecream with even any otherdont want to take any namenit was of around 700rs and totally wastednwe could have had any normal icecream rather than having itnreally disappointednnote i am only talking about one specific icecream which we ordered and totally unaware of tastes of others rated 20 ratedn  this outlet is in phoenix mall right at the enterance ordered pralines and cream single sundae  the pics looked very appealing there was one small scoop of ice cream surrounded by cream on a layer of rice crisps waste of 400 rs haagen dazs is a huge disappointment in terms of quality quantity and pricing\"\n        ],\n        \"semantic_type\": \"\",\n        \"description\": \"\"\n      }\n    },\n    {\n      \"column\": \"cuisines\",\n      \"properties\": {\n        \"dtype\": \"string\",\n        \"num_unique_values\": 5,\n        \"samples\": [\n          \"Continental, Italian, North Indian, Asian, Bakery, Chinese, European, Japanese\",\n          \"Cafe, Burger, Chinese, Fast Food, Beverages\",\n          \"Desserts, Ice Cream\"\n        ],\n        \"semantic_type\": \"\",\n        \"description\": \"\"\n      }\n    }\n  ]\n}",
              "type": "dataframe"
            },
            "text/html": [
              "\n",
              "  <div id=\"df-ec56b9ed-5c10-43f8-9048-f6f8f68c29b8\" class=\"colab-df-container\">\n",
              "    <div>\n",
              "<style scoped>\n",
              "    .dataframe tbody tr th:only-of-type {\n",
              "        vertical-align: middle;\n",
              "    }\n",
              "\n",
              "    .dataframe tbody tr th {\n",
              "        vertical-align: top;\n",
              "    }\n",
              "\n",
              "    .dataframe thead th {\n",
              "        text-align: right;\n",
              "    }\n",
              "</style>\n",
              "<table border=\"1\" class=\"dataframe\">\n",
              "  <thead>\n",
              "    <tr style=\"text-align: right;\">\n",
              "      <th></th>\n",
              "      <th>reviews_list</th>\n",
              "      <th>cuisines</th>\n",
              "    </tr>\n",
              "  </thead>\n",
              "  <tbody>\n",
              "    <tr>\n",
              "      <th>36621</th>\n",
              "      <td></td>\n",
              "      <td>European, Mediterranean, Salad</td>\n",
              "    </tr>\n",
              "    <tr>\n",
              "      <th>28391</th>\n",
              "      <td>rated 30 ratedn  i tried out a lot of dishes h...</td>\n",
              "      <td>Continental, Italian, North Indian, Asian, Bak...</td>\n",
              "    </tr>\n",
              "    <tr>\n",
              "      <th>40345</th>\n",
              "      <td>rated 50 ratedn  ãx83ãx83ãx82ãx83ãx83ãx8...</td>\n",
              "      <td>Desserts, Ice Cream</td>\n",
              "    </tr>\n",
              "    <tr>\n",
              "      <th>25253</th>\n",
              "      <td>rated 50 ratedn  i loved their biryani and the...</td>\n",
              "      <td>North Indian, Chinese</td>\n",
              "    </tr>\n",
              "    <tr>\n",
              "      <th>6216</th>\n",
              "      <td>rated 40 ratedn  this is a nice hangout place ...</td>\n",
              "      <td>Cafe, Burger, Chinese, Fast Food, Beverages</td>\n",
              "    </tr>\n",
              "  </tbody>\n",
              "</table>\n",
              "</div>\n",
              "    <div class=\"colab-df-buttons\">\n",
              "\n",
              "  <div class=\"colab-df-container\">\n",
              "    <button class=\"colab-df-convert\" onclick=\"convertToInteractive('df-ec56b9ed-5c10-43f8-9048-f6f8f68c29b8')\"\n",
              "            title=\"Convert this dataframe to an interactive table.\"\n",
              "            style=\"display:none;\">\n",
              "\n",
              "  <svg xmlns=\"http://www.w3.org/2000/svg\" height=\"24px\" viewBox=\"0 -960 960 960\">\n",
              "    <path d=\"M120-120v-720h720v720H120Zm60-500h600v-160H180v160Zm220 220h160v-160H400v160Zm0 220h160v-160H400v160ZM180-400h160v-160H180v160Zm440 0h160v-160H620v160ZM180-180h160v-160H180v160Zm440 0h160v-160H620v160Z\"/>\n",
              "  </svg>\n",
              "    </button>\n",
              "\n",
              "  <style>\n",
              "    .colab-df-container {\n",
              "      display:flex;\n",
              "      gap: 12px;\n",
              "    }\n",
              "\n",
              "    .colab-df-convert {\n",
              "      background-color: #E8F0FE;\n",
              "      border: none;\n",
              "      border-radius: 50%;\n",
              "      cursor: pointer;\n",
              "      display: none;\n",
              "      fill: #1967D2;\n",
              "      height: 32px;\n",
              "      padding: 0 0 0 0;\n",
              "      width: 32px;\n",
              "    }\n",
              "\n",
              "    .colab-df-convert:hover {\n",
              "      background-color: #E2EBFA;\n",
              "      box-shadow: 0px 1px 2px rgba(60, 64, 67, 0.3), 0px 1px 3px 1px rgba(60, 64, 67, 0.15);\n",
              "      fill: #174EA6;\n",
              "    }\n",
              "\n",
              "    .colab-df-buttons div {\n",
              "      margin-bottom: 4px;\n",
              "    }\n",
              "\n",
              "    [theme=dark] .colab-df-convert {\n",
              "      background-color: #3B4455;\n",
              "      fill: #D2E3FC;\n",
              "    }\n",
              "\n",
              "    [theme=dark] .colab-df-convert:hover {\n",
              "      background-color: #434B5C;\n",
              "      box-shadow: 0px 1px 3px 1px rgba(0, 0, 0, 0.15);\n",
              "      filter: drop-shadow(0px 1px 2px rgba(0, 0, 0, 0.3));\n",
              "      fill: #FFFFFF;\n",
              "    }\n",
              "  </style>\n",
              "\n",
              "    <script>\n",
              "      const buttonEl =\n",
              "        document.querySelector('#df-ec56b9ed-5c10-43f8-9048-f6f8f68c29b8 button.colab-df-convert');\n",
              "      buttonEl.style.display =\n",
              "        google.colab.kernel.accessAllowed ? 'block' : 'none';\n",
              "\n",
              "      async function convertToInteractive(key) {\n",
              "        const element = document.querySelector('#df-ec56b9ed-5c10-43f8-9048-f6f8f68c29b8');\n",
              "        const dataTable =\n",
              "          await google.colab.kernel.invokeFunction('convertToInteractive',\n",
              "                                                    [key], {});\n",
              "        if (!dataTable) return;\n",
              "\n",
              "        const docLinkHtml = 'Like what you see? Visit the ' +\n",
              "          '<a target=\"_blank\" href=https://colab.research.google.com/notebooks/data_table.ipynb>data table notebook</a>'\n",
              "          + ' to learn more about interactive tables.';\n",
              "        element.innerHTML = '';\n",
              "        dataTable['output_type'] = 'display_data';\n",
              "        await google.colab.output.renderOutput(dataTable, element);\n",
              "        const docLink = document.createElement('div');\n",
              "        docLink.innerHTML = docLinkHtml;\n",
              "        element.appendChild(docLink);\n",
              "      }\n",
              "    </script>\n",
              "  </div>\n",
              "\n",
              "\n",
              "<div id=\"df-1784ada6-5ebe-4e58-8804-cc7ee6e9d53f\">\n",
              "  <button class=\"colab-df-quickchart\" onclick=\"quickchart('df-1784ada6-5ebe-4e58-8804-cc7ee6e9d53f')\"\n",
              "            title=\"Suggest charts\"\n",
              "            style=\"display:none;\">\n",
              "\n",
              "<svg xmlns=\"http://www.w3.org/2000/svg\" height=\"24px\"viewBox=\"0 0 24 24\"\n",
              "     width=\"24px\">\n",
              "    <g>\n",
              "        <path d=\"M19 3H5c-1.1 0-2 .9-2 2v14c0 1.1.9 2 2 2h14c1.1 0 2-.9 2-2V5c0-1.1-.9-2-2-2zM9 17H7v-7h2v7zm4 0h-2V7h2v10zm4 0h-2v-4h2v4z\"/>\n",
              "    </g>\n",
              "</svg>\n",
              "  </button>\n",
              "\n",
              "<style>\n",
              "  .colab-df-quickchart {\n",
              "      --bg-color: #E8F0FE;\n",
              "      --fill-color: #1967D2;\n",
              "      --hover-bg-color: #E2EBFA;\n",
              "      --hover-fill-color: #174EA6;\n",
              "      --disabled-fill-color: #AAA;\n",
              "      --disabled-bg-color: #DDD;\n",
              "  }\n",
              "\n",
              "  [theme=dark] .colab-df-quickchart {\n",
              "      --bg-color: #3B4455;\n",
              "      --fill-color: #D2E3FC;\n",
              "      --hover-bg-color: #434B5C;\n",
              "      --hover-fill-color: #FFFFFF;\n",
              "      --disabled-bg-color: #3B4455;\n",
              "      --disabled-fill-color: #666;\n",
              "  }\n",
              "\n",
              "  .colab-df-quickchart {\n",
              "    background-color: var(--bg-color);\n",
              "    border: none;\n",
              "    border-radius: 50%;\n",
              "    cursor: pointer;\n",
              "    display: none;\n",
              "    fill: var(--fill-color);\n",
              "    height: 32px;\n",
              "    padding: 0;\n",
              "    width: 32px;\n",
              "  }\n",
              "\n",
              "  .colab-df-quickchart:hover {\n",
              "    background-color: var(--hover-bg-color);\n",
              "    box-shadow: 0 1px 2px rgba(60, 64, 67, 0.3), 0 1px 3px 1px rgba(60, 64, 67, 0.15);\n",
              "    fill: var(--button-hover-fill-color);\n",
              "  }\n",
              "\n",
              "  .colab-df-quickchart-complete:disabled,\n",
              "  .colab-df-quickchart-complete:disabled:hover {\n",
              "    background-color: var(--disabled-bg-color);\n",
              "    fill: var(--disabled-fill-color);\n",
              "    box-shadow: none;\n",
              "  }\n",
              "\n",
              "  .colab-df-spinner {\n",
              "    border: 2px solid var(--fill-color);\n",
              "    border-color: transparent;\n",
              "    border-bottom-color: var(--fill-color);\n",
              "    animation:\n",
              "      spin 1s steps(1) infinite;\n",
              "  }\n",
              "\n",
              "  @keyframes spin {\n",
              "    0% {\n",
              "      border-color: transparent;\n",
              "      border-bottom-color: var(--fill-color);\n",
              "      border-left-color: var(--fill-color);\n",
              "    }\n",
              "    20% {\n",
              "      border-color: transparent;\n",
              "      border-left-color: var(--fill-color);\n",
              "      border-top-color: var(--fill-color);\n",
              "    }\n",
              "    30% {\n",
              "      border-color: transparent;\n",
              "      border-left-color: var(--fill-color);\n",
              "      border-top-color: var(--fill-color);\n",
              "      border-right-color: var(--fill-color);\n",
              "    }\n",
              "    40% {\n",
              "      border-color: transparent;\n",
              "      border-right-color: var(--fill-color);\n",
              "      border-top-color: var(--fill-color);\n",
              "    }\n",
              "    60% {\n",
              "      border-color: transparent;\n",
              "      border-right-color: var(--fill-color);\n",
              "    }\n",
              "    80% {\n",
              "      border-color: transparent;\n",
              "      border-right-color: var(--fill-color);\n",
              "      border-bottom-color: var(--fill-color);\n",
              "    }\n",
              "    90% {\n",
              "      border-color: transparent;\n",
              "      border-bottom-color: var(--fill-color);\n",
              "    }\n",
              "  }\n",
              "</style>\n",
              "\n",
              "  <script>\n",
              "    async function quickchart(key) {\n",
              "      const quickchartButtonEl =\n",
              "        document.querySelector('#' + key + ' button');\n",
              "      quickchartButtonEl.disabled = true;  // To prevent multiple clicks.\n",
              "      quickchartButtonEl.classList.add('colab-df-spinner');\n",
              "      try {\n",
              "        const charts = await google.colab.kernel.invokeFunction(\n",
              "            'suggestCharts', [key], {});\n",
              "      } catch (error) {\n",
              "        console.error('Error during call to suggestCharts:', error);\n",
              "      }\n",
              "      quickchartButtonEl.classList.remove('colab-df-spinner');\n",
              "      quickchartButtonEl.classList.add('colab-df-quickchart-complete');\n",
              "    }\n",
              "    (() => {\n",
              "      let quickchartButtonEl =\n",
              "        document.querySelector('#df-1784ada6-5ebe-4e58-8804-cc7ee6e9d53f button');\n",
              "      quickchartButtonEl.style.display =\n",
              "        google.colab.kernel.accessAllowed ? 'block' : 'none';\n",
              "    })();\n",
              "  </script>\n",
              "</div>\n",
              "\n",
              "    </div>\n",
              "  </div>\n"
            ],
            "text/plain": [
              "                                            reviews_list  \\\n",
              "36621                                                      \n",
              "28391  rated 30 ratedn  i tried out a lot of dishes h...   \n",
              "40345  rated 50 ratedn  ãx83ãx83ãx82ãx83ãx83ãx8...   \n",
              "25253  rated 50 ratedn  i loved their biryani and the...   \n",
              "6216   rated 40 ratedn  this is a nice hangout place ...   \n",
              "\n",
              "                                                cuisines  \n",
              "36621                     European, Mediterranean, Salad  \n",
              "28391  Continental, Italian, North Indian, Asian, Bak...  \n",
              "40345                                Desserts, Ice Cream  \n",
              "25253                              North Indian, Chinese  \n",
              "6216         Cafe, Burger, Chinese, Fast Food, Beverages  "
            ]
          },
          "execution_count": 20,
          "metadata": {},
          "output_type": "execute_result"
        }
      ],
      "source": [
        "## Removal of Puctuations\n",
        "import string\n",
        "PUNCT_TO_REMOVE = string.punctuation\n",
        "def remove_punctuation(text):\n",
        "    \"\"\"custom function to remove the punctuation\"\"\"\n",
        "    return text.translate(str.maketrans('', '', PUNCT_TO_REMOVE))\n",
        "\n",
        "zomato[\"reviews_list\"] = zomato[\"reviews_list\"].apply(lambda text: remove_punctuation(text))\n",
        "zomato[['reviews_list', 'cuisines']].sample(5)"
      ]
    },
    {
      "cell_type": "code",
      "execution_count": null,
      "metadata": {
        "colab": {
          "background_save": true
        },
        "id": "y_852kTYFvPW",
        "outputId": "f094c9e7-ea73-4337-b195-5a3a6ab2a221"
      },
      "outputs": [
        {
          "name": "stderr",
          "output_type": "stream",
          "text": [
            "[nltk_data] Downloading package stopwords to /root/nltk_data...\n",
            "[nltk_data]   Unzipping corpora/stopwords.zip.\n"
          ]
        },
        {
          "data": {
            "text/plain": [
              "True"
            ]
          },
          "execution_count": 21,
          "metadata": {},
          "output_type": "execute_result"
        }
      ],
      "source": [
        "import nltk\n",
        "nltk.download('stopwords')"
      ]
    },
    {
      "cell_type": "code",
      "execution_count": null,
      "metadata": {
        "id": "inkt3ZmpFlhk"
      },
      "outputs": [],
      "source": [
        "## Removal of Stopwords\n",
        "from nltk.corpus import stopwords\n",
        "STOPWORDS = set(stopwords.words('english'))\n",
        "def remove_stopwords(text):\n",
        "    \"\"\"custom function to remove the stopwords\"\"\"\n",
        "    return \" \".join([word for word in str(text).split() if word not in STOPWORDS])\n",
        "\n",
        "zomato[\"reviews_list\"] = zomato[\"reviews_list\"].apply(lambda text: remove_stopwords(text))"
      ]
    },
    {
      "cell_type": "code",
      "execution_count": null,
      "metadata": {
        "id": "eeDP2dZBFlj-"
      },
      "outputs": [],
      "source": [
        "## Removal of URLS\n",
        "def remove_urls(text):\n",
        "    url_pattern = re.compile(r'https?://\\S+|www\\.\\S+')\n",
        "    return url_pattern.sub(r'', text)\n",
        "\n",
        "zomato[\"reviews_list\"] = zomato[\"reviews_list\"].apply(lambda text: remove_urls(text))"
      ]
    },
    {
      "cell_type": "code",
      "execution_count": null,
      "metadata": {
        "id": "6mnmNoYZFlmL"
      },
      "outputs": [],
      "source": [
        "zomato[['reviews_list', 'cuisines']].sample(5)"
      ]
    },
    {
      "cell_type": "code",
      "execution_count": null,
      "metadata": {
        "id": "g2Go34V9GcAN"
      },
      "outputs": [],
      "source": [
        "# RESTAURANT NAMES:\n",
        "restaurant_names = list(zomato['name'].unique())\n",
        "restaurant_names"
      ]
    },
    {
      "cell_type": "code",
      "execution_count": null,
      "metadata": {
        "id": "1CcTLu8qFlpw"
      },
      "outputs": [],
      "source": [
        "def get_top_words(column, top_nu_of_words, nu_of_word):\n",
        "\n",
        "    vec = CountVectorizer(ngram_range= nu_of_word, stop_words='english')\n",
        "\n",
        "    bag_of_words = vec.fit_transform(column)\n",
        "\n",
        "    sum_words = bag_of_words.sum(axis=0)\n",
        "\n",
        "    words_freq = [(word, sum_words[0, idx]) for word, idx in vec.vocabulary_.items()]\n",
        "\n",
        "    words_freq =sorted(words_freq, key = lambda x: x[1], reverse=True)\n",
        "\n",
        "    return words_freq[:top_nu_of_words]\n"
      ]
    },
    {
      "cell_type": "code",
      "execution_count": null,
      "metadata": {
        "id": "HrYkdJsIGvCX"
      },
      "outputs": [],
      "source": [
        "zomato.head()"
      ]
    },
    {
      "cell_type": "code",
      "execution_count": null,
      "metadata": {
        "id": "kADrTW19HA97"
      },
      "outputs": [],
      "source": [
        "zomato.sample(5)"
      ]
    },
    {
      "cell_type": "code",
      "execution_count": null,
      "metadata": {
        "id": "NiXdu3agG1-0"
      },
      "outputs": [],
      "source": [
        "zomato.shape"
      ]
    },
    {
      "cell_type": "code",
      "execution_count": null,
      "metadata": {
        "id": "o1wOl8K-IHGc"
      },
      "outputs": [],
      "source": [
        "zomato.columns"
      ]
    },
    {
      "cell_type": "code",
      "execution_count": null,
      "metadata": {
        "id": "C6FQEqcLG9Sp"
      },
      "outputs": [],
      "source": [
        "zomato=zomato.drop(['address','rest_type', 'type', 'menu_item', 'votes'],axis=1)"
      ]
    },
    {
      "cell_type": "code",
      "execution_count": null,
      "metadata": {
        "id": "yuteLLVPIO_k"
      },
      "outputs": [],
      "source": [
        "import pandas\n",
        "\n",
        "# Randomly sample 60% of your dataframe\n",
        "df_percent = zomato.sample(frac=0.5)"
      ]
    },
    {
      "cell_type": "code",
      "execution_count": null,
      "metadata": {
        "id": "fDQY13IoIWPA"
      },
      "outputs": [],
      "source": [
        "df_percent.set_index('name', inplace=True)"
      ]
    },
    {
      "cell_type": "code",
      "execution_count": null,
      "metadata": {
        "id": "oMVA6DQgIcEF"
      },
      "outputs": [],
      "source": [
        "indices = pd.Series(df_percent.index)"
      ]
    },
    {
      "cell_type": "code",
      "execution_count": null,
      "metadata": {
        "id": "JQoGvxUdIexN"
      },
      "outputs": [],
      "source": [
        "# Creating tf-idf matrix\n",
        "tfidf = TfidfVectorizer(analyzer='word', ngram_range=(1, 2), min_df=0, stop_words='english')\n",
        "tfidf_matrix = tfidf.fit_transform(df_percent['reviews_list'])"
      ]
    },
    {
      "cell_type": "code",
      "execution_count": null,
      "metadata": {
        "id": "ceK_yyxtIjgM"
      },
      "outputs": [],
      "source": [
        "cosine_similarities = linear_kernel(tfidf_matrix, tfidf_matrix)"
      ]
    },
    {
      "cell_type": "code",
      "execution_count": null,
      "metadata": {
        "id": "P3S1J5N3JHyV"
      },
      "outputs": [],
      "source": [
        "def recommend(name, cosine_similarities = cosine_similarities):\n",
        "\n",
        "    # Create a list to put top restaurants\n",
        "    recommend_restaurant = []\n",
        "\n",
        "    # Find the index of the hotel entered\n",
        "    idx = indices[indices == name].index[0]\n",
        "\n",
        "    # Find the restaurants with a similar cosine-sim value and order them from bigges number\n",
        "    score_series = pd.Series(cosine_similarities[idx]).sort_values(ascending=False)\n",
        "\n",
        "    # Extract top 30 restaurant indexes with a similar cosine-sim value\n",
        "    top30_indexes = list(score_series.iloc[0:31].index)\n",
        "\n",
        "    # Names of the top 30 restaurants\n",
        "    for each in top30_indexes:\n",
        "        recommend_restaurant.append(list(df_percent.index)[each])\n",
        "\n",
        "    # Creating the new data set to show similar restaurants\n",
        "    df_new = pd.DataFrame(columns=['cuisines', 'Mean Rating', 'cost'])\n",
        "    # Create the top 30 similar restaurants with some of their columns\n",
        "    for each in recommend_restaurant:\n",
        "        df_new = df_new.append(pd.DataFrame(df_percent[['cuisines','Mean Rating', 'cost']][df_percent.index == each].sample()))\n",
        "\n",
        "    # Drop the same named restaurants and sort only the top 10 by the highest rating\n",
        "    df_new = df_new.drop_duplicates(subset=['cuisines','Mean Rating', 'cost'], keep=False)\n",
        "    df_new = df_new.sort_values(by='Mean Rating', ascending=False).head(10)\n",
        "\n",
        "    print('TOP %s RESTAURANTS LIKE %s WITH SIMILAR REVIEWS: ' % (str(len(df_new)), name))\n",
        "\n",
        "    return df_new"
      ]
    },
    {
      "cell_type": "code",
      "execution_count": null,
      "metadata": {
        "id": "RPxYVJpvJUvA"
      },
      "outputs": [],
      "source": [
        "# HERE IS A RANDOM RESTAURANT. LET'S SEE THE DETAILS ABOUT THIS RESTAURANT:\n",
        "df_percent[df_percent.index == 'Pai Vihar'].head()"
      ]
    },
    {
      "cell_type": "code",
      "execution_count": null,
      "metadata": {
        "id": "SdYeNzSqJYbj"
      },
      "outputs": [],
      "source": [
        "recommend('Pai Vihar')"
      ]
    },
    {
      "cell_type": "code",
      "execution_count": null,
      "metadata": {
        "id": "95rG-t9_KJHI"
      },
      "outputs": [],
      "source": [
        "recommend('Dum Biryani Hub')"
      ]
    }
  ],
  "metadata": {
    "colab": {
      "provenance": []
    },
    "kernelspec": {
      "display_name": "Python 3",
      "name": "python3"
    },
    "language_info": {
      "name": "python"
    }
  },
  "nbformat": 4,
  "nbformat_minor": 0
}